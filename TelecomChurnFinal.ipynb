{
 "cells": [
  {
   "cell_type": "markdown",
   "id": "13a2d4e8",
   "metadata": {
    "papermill": {
     "duration": 0.072196,
     "end_time": "2022-05-24T08:45:50.833987",
     "exception": false,
     "start_time": "2022-05-24T08:45:50.761791",
     "status": "completed"
    },
    "tags": []
   },
   "source": [
    "# Telecom Churn Prediction"
   ]
  },
  {
   "cell_type": "markdown",
   "id": "e787bdaf",
   "metadata": {
    "papermill": {
     "duration": 0.065074,
     "end_time": "2022-05-24T08:45:51.101404",
     "exception": false,
     "start_time": "2022-05-24T08:45:51.036330",
     "status": "completed"
    },
    "tags": []
   },
   "source": [
    "## Business Problem Overview\n",
    "In the telecom industry, customers are able to choose from multiple service providers and actively switch from one operator to another. In this highly competitive market, the telecommunications industry experiences an average of 15-25% annual churn rate. Given the fact that it costs 5-10 times more to acquire a new customer than to retain an existing one, customer retention has now become even more important than customer acquisition.\n",
    "\n",
    "For many incumbent operators, retaining high profitable customers is the number one business goal.\n",
    "\n",
    "\n",
    "To reduce customer churn, telecom companies need to predict which customers are at high risk of churn.\n",
    "\n",
    " \n",
    "In this project, you will analyse customer-level data of a leading telecom firm, build predictive models to identify customers at high risk of churn and identify the main indicators of churn.\n",
    "\n",
    "**Customer behaviour during churn:**\n",
    "\n",
    "Customers usually do not decide to switch to another competitor instantly, but rather over a\n",
    "period of time (this is especially applicable to high-value customers). In churn prediction, we\n",
    "assume that there are three phases of customer lifecycle :\n",
    "\n",
    "1. <u>The ‘good’ phase:</u> In this phase, the customer is happy with the service and behaves as usual.\n",
    "\n",
    "\n",
    "2. <u>The ‘action’ phase:</u> The customer experience starts to sore in this phase, for e.g. he/she gets a compelling offer from a competitor, faces unjust charges, becomes unhappy with service quality etc. In this phase, the customer usually shows different behaviour than the ‘good’ months. It is crucial to identify high-churn-risk customers in this phase, since some corrective actions can be taken at this point (such as matching the competitor’s offer/improving the service quality etc.)\n",
    "\n",
    "\n",
    "3. <u>The ‘churn’ phase:</u> In this phase, the customer is said to have churned. In this case, since you are working over a four-month window, the first two months are the ‘good’ phase, the third month is the ‘action’ phase, while the fourth month (September) is the ‘churn’ phase."
   ]
  },
  {
   "cell_type": "markdown",
   "id": "c79a7193",
   "metadata": {
    "papermill": {
     "duration": 0.063524,
     "end_time": "2022-05-24T08:45:51.228858",
     "exception": false,
     "start_time": "2022-05-24T08:45:51.165334",
     "status": "completed"
    },
    "tags": []
   },
   "source": [
    "# 1. Loading dependencies & datasets"
   ]
  },
  {
   "cell_type": "code",
   "execution_count": 1,
   "id": "1bd0d2e9",
   "metadata": {
    "execution": {
     "iopub.execute_input": "2022-05-24T08:45:51.381899Z",
     "iopub.status.busy": "2022-05-24T08:45:51.380830Z",
     "iopub.status.idle": "2022-05-24T08:45:52.753968Z",
     "shell.execute_reply": "2022-05-24T08:45:52.753206Z"
    },
    "papermill": {
     "duration": 1.454938,
     "end_time": "2022-05-24T08:45:52.756157",
     "exception": false,
     "start_time": "2022-05-24T08:45:51.301219",
     "status": "completed"
    },
    "tags": []
   },
   "outputs": [
    {
     "name": "stdout",
     "output_type": "stream",
     "text": [
      "Requirement already satisfied: missingno in c:\\programdata\\anaconda3\\lib\\site-packages (0.5.1)\n",
      "Requirement already satisfied: seaborn in c:\\programdata\\anaconda3\\lib\\site-packages (from missingno) (0.11.1)\n",
      "Requirement already satisfied: matplotlib in c:\\programdata\\anaconda3\\lib\\site-packages (from missingno) (3.3.4)\n",
      "Requirement already satisfied: scipy in c:\\programdata\\anaconda3\\lib\\site-packages (from missingno) (1.6.2)\n",
      "Requirement already satisfied: numpy in c:\\programdata\\anaconda3\\lib\\site-packages (from missingno) (1.20.1)\n",
      "Requirement already satisfied: pyparsing!=2.0.4,!=2.1.2,!=2.1.6,>=2.0.3 in c:\\programdata\\anaconda3\\lib\\site-packages (from matplotlib->missingno) (2.4.7)\n",
      "Requirement already satisfied: cycler>=0.10 in c:\\programdata\\anaconda3\\lib\\site-packages (from matplotlib->missingno) (0.10.0)\n",
      "Requirement already satisfied: pillow>=6.2.0 in c:\\programdata\\anaconda3\\lib\\site-packages (from matplotlib->missingno) (8.2.0)\n",
      "Requirement already satisfied: python-dateutil>=2.1 in c:\\programdata\\anaconda3\\lib\\site-packages (from matplotlib->missingno) (2.8.1)\n",
      "Requirement already satisfied: kiwisolver>=1.0.1 in c:\\programdata\\anaconda3\\lib\\site-packages (from matplotlib->missingno) (1.3.1)\n",
      "Requirement already satisfied: six in c:\\programdata\\anaconda3\\lib\\site-packages (from cycler>=0.10->matplotlib->missingno) (1.15.0)\n",
      "Requirement already satisfied: pandas>=0.23 in c:\\programdata\\anaconda3\\lib\\site-packages (from seaborn->missingno) (1.2.4)\n",
      "Requirement already satisfied: pytz>=2017.3 in c:\\programdata\\anaconda3\\lib\\site-packages (from pandas>=0.23->seaborn->missingno) (2021.1)\n"
     ]
    }
   ],
   "source": [
    "#Data Structures\n",
    "import pandas as pd\n",
    "import numpy as np\n",
    "import re\n",
    "import os\n",
    "\n",
    "### For installing missingno library, type this command in terminal\n",
    "# !pip install missingno\n",
    "\n",
    "import missingno as msno\n",
    "\n",
    "#Sklearn\n",
    "from sklearn.impute import SimpleImputer\n",
    "from sklearn.preprocessing import StandardScaler\n",
    "from sklearn.model_selection import train_test_split\n",
    "from sklearn.ensemble import RandomForestClassifier\n",
    "from sklearn.decomposition import PCA\n",
    "from sklearn.manifold import TSNE\n",
    "from sklearn.linear_model import LogisticRegression\n",
    "from sklearn.pipeline import Pipeline\n",
    "from sklearn.model_selection import GridSearchCV\n",
    "from sklearn.metrics import confusion_matrix, precision_score, recall_score\n",
    "\n",
    "#Plotting\n",
    "import matplotlib.pyplot as plt\n",
    "from mpl_toolkits.mplot3d import Axes3D\n",
    "import seaborn as sns\n",
    "\n",
    "#Others\n",
    "import warnings\n",
    "warnings.filterwarnings('ignore')\n",
    "\n",
    "%matplotlib inline"
   ]
  },
  {
   "cell_type": "markdown",
   "id": "907dd34e",
   "metadata": {
    "papermill": {
     "duration": 0.061065,
     "end_time": "2022-05-24T08:45:52.879192",
     "exception": false,
     "start_time": "2022-05-24T08:45:52.818127",
     "status": "completed"
    },
    "tags": []
   },
   "source": [
    "Next, we load our datasets and the data dictionary file.\n",
    "\n",
    "The **train.csv** file contains both dependent and independent features, while the **test.csv** contains only the independent variables. \n",
    "\n",
    "So, for model selection, I will create our own train/test dataset from the **train.csv** and use the model to predict the solution using the features in unseen test.csv data for submission."
   ]
  },
  {
   "cell_type": "code",
   "execution_count": 2,
   "id": "20371590",
   "metadata": {
    "execution": {
     "iopub.execute_input": "2022-05-24T08:45:53.144706Z",
     "iopub.status.busy": "2022-05-24T08:45:53.144434Z",
     "iopub.status.idle": "2022-05-24T08:45:55.961977Z",
     "shell.execute_reply": "2022-05-24T08:45:55.961070Z"
    },
    "papermill": {
     "duration": 2.885197,
     "end_time": "2022-05-24T08:45:55.963763",
     "exception": false,
     "start_time": "2022-05-24T08:45:53.078566",
     "status": "completed"
    },
    "tags": []
   },
   "outputs": [
    {
     "name": "stdout",
     "output_type": "stream",
     "text": [
      "(69999, 172)\n",
      "(30000, 171)\n"
     ]
    }
   ],
   "source": [
    "data = pd.read_csv(\"train.csv\")\n",
    "unseen = pd.read_csv(\"test.csv\")\n",
    "\n",
    "print(data.shape)\n",
    "print(unseen.shape)"
   ]
  },
  {
   "cell_type": "code",
   "execution_count": 3,
   "id": "25ea5e28",
   "metadata": {
    "execution": {
     "iopub.execute_input": "2022-05-24T08:45:56.496455Z",
     "iopub.status.busy": "2022-05-24T08:45:56.495682Z",
     "iopub.status.idle": "2022-05-24T08:45:56.523653Z",
     "shell.execute_reply": "2022-05-24T08:45:56.523061Z"
    },
    "papermill": {
     "duration": 0.09494,
     "end_time": "2022-05-24T08:45:56.525714",
     "exception": false,
     "start_time": "2022-05-24T08:45:56.430774",
     "status": "completed"
    },
    "tags": []
   },
   "outputs": [],
   "source": [
    "ids = ['id','circle_id']\n",
    "total_amounts = [i for i in list(data.columns) if re.search('total.+amt',i)]\n",
    "total_outgoing_minutes = [i for i in list(data.columns) if re.search('total.+og.+mou',i)]\n",
    "offnetwork_minutes = [i for i in list(data.columns) if re.search('offnet',i)]\n",
    "average_revenue_3g = [i for i in list(data.columns) if re.search('arpu.+3g',i)]\n",
    "average_revenue_2g = [i for i in list(data.columns) if re.search('arpu.+2g',i)]\n",
    "volume_3g = [i for i in list(data.columns) if re.search('vol.+3g',i)]\n",
    "volume_2g = [i for i in list(data.columns) if re.search('vol.+2g',i)]\n",
    "age_on_network = [i for i in list(data.columns) if re.search('aon',i)]\n",
    "\n",
    "#Storing them in a single flat list\n",
    "variables = [*ids, \n",
    "             *total_amounts, \n",
    "             *total_outgoing_minutes, \n",
    "             *offnetwork_minutes, \n",
    "             *average_revenue_3g, \n",
    "             *average_revenue_2g,\n",
    "             *volume_3g,\n",
    "             *volume_2g,\n",
    "             *age_on_network, \n",
    "             'churn_probability']\n",
    "\n",
    "data = data[variables].set_index('id')"
   ]
  },
  {
   "cell_type": "code",
   "execution_count": 4,
   "id": "c898d137",
   "metadata": {
    "execution": {
     "iopub.execute_input": "2022-05-24T08:45:56.656020Z",
     "iopub.status.busy": "2022-05-24T08:45:56.655306Z",
     "iopub.status.idle": "2022-05-24T08:45:56.680029Z",
     "shell.execute_reply": "2022-05-24T08:45:56.679232Z"
    },
    "papermill": {
     "duration": 0.091914,
     "end_time": "2022-05-24T08:45:56.681931",
     "exception": false,
     "start_time": "2022-05-24T08:45:56.590017",
     "status": "completed"
    },
    "tags": []
   },
   "outputs": [
    {
     "data": {
      "text/html": [
       "<div>\n",
       "<style scoped>\n",
       "    .dataframe tbody tr th:only-of-type {\n",
       "        vertical-align: middle;\n",
       "    }\n",
       "\n",
       "    .dataframe tbody tr th {\n",
       "        vertical-align: top;\n",
       "    }\n",
       "\n",
       "    .dataframe thead th {\n",
       "        text-align: right;\n",
       "    }\n",
       "</style>\n",
       "<table border=\"1\" class=\"dataframe\">\n",
       "  <thead>\n",
       "    <tr style=\"text-align: right;\">\n",
       "      <th></th>\n",
       "      <th>circle_id</th>\n",
       "      <th>total_rech_amt_6</th>\n",
       "      <th>total_rech_amt_7</th>\n",
       "      <th>total_rech_amt_8</th>\n",
       "      <th>total_og_mou_6</th>\n",
       "      <th>total_og_mou_7</th>\n",
       "      <th>total_og_mou_8</th>\n",
       "      <th>offnet_mou_6</th>\n",
       "      <th>offnet_mou_7</th>\n",
       "      <th>offnet_mou_8</th>\n",
       "      <th>...</th>\n",
       "      <th>arpu_2g_7</th>\n",
       "      <th>arpu_2g_8</th>\n",
       "      <th>vol_3g_mb_6</th>\n",
       "      <th>vol_3g_mb_7</th>\n",
       "      <th>vol_3g_mb_8</th>\n",
       "      <th>vol_2g_mb_6</th>\n",
       "      <th>vol_2g_mb_7</th>\n",
       "      <th>vol_2g_mb_8</th>\n",
       "      <th>aon</th>\n",
       "      <th>churn_probability</th>\n",
       "    </tr>\n",
       "    <tr>\n",
       "      <th>id</th>\n",
       "      <th></th>\n",
       "      <th></th>\n",
       "      <th></th>\n",
       "      <th></th>\n",
       "      <th></th>\n",
       "      <th></th>\n",
       "      <th></th>\n",
       "      <th></th>\n",
       "      <th></th>\n",
       "      <th></th>\n",
       "      <th></th>\n",
       "      <th></th>\n",
       "      <th></th>\n",
       "      <th></th>\n",
       "      <th></th>\n",
       "      <th></th>\n",
       "      <th></th>\n",
       "      <th></th>\n",
       "      <th></th>\n",
       "      <th></th>\n",
       "      <th></th>\n",
       "    </tr>\n",
       "  </thead>\n",
       "  <tbody>\n",
       "    <tr>\n",
       "      <th>0</th>\n",
       "      <td>109</td>\n",
       "      <td>77</td>\n",
       "      <td>65</td>\n",
       "      <td>10</td>\n",
       "      <td>81.21</td>\n",
       "      <td>221.68</td>\n",
       "      <td>3.63</td>\n",
       "      <td>32.24</td>\n",
       "      <td>96.68</td>\n",
       "      <td>2.33</td>\n",
       "      <td>...</td>\n",
       "      <td>NaN</td>\n",
       "      <td>NaN</td>\n",
       "      <td>0.0</td>\n",
       "      <td>0.00</td>\n",
       "      <td>0.0</td>\n",
       "      <td>0.0</td>\n",
       "      <td>0.00</td>\n",
       "      <td>0.00</td>\n",
       "      <td>1958</td>\n",
       "      <td>0</td>\n",
       "    </tr>\n",
       "    <tr>\n",
       "      <th>1</th>\n",
       "      <td>109</td>\n",
       "      <td>0</td>\n",
       "      <td>145</td>\n",
       "      <td>50</td>\n",
       "      <td>0.00</td>\n",
       "      <td>30.73</td>\n",
       "      <td>31.66</td>\n",
       "      <td>0.00</td>\n",
       "      <td>25.99</td>\n",
       "      <td>30.89</td>\n",
       "      <td>...</td>\n",
       "      <td>122.08</td>\n",
       "      <td>NaN</td>\n",
       "      <td>0.0</td>\n",
       "      <td>3.96</td>\n",
       "      <td>0.0</td>\n",
       "      <td>0.0</td>\n",
       "      <td>352.91</td>\n",
       "      <td>0.00</td>\n",
       "      <td>710</td>\n",
       "      <td>0</td>\n",
       "    </tr>\n",
       "    <tr>\n",
       "      <th>2</th>\n",
       "      <td>109</td>\n",
       "      <td>70</td>\n",
       "      <td>120</td>\n",
       "      <td>0</td>\n",
       "      <td>56.49</td>\n",
       "      <td>99.36</td>\n",
       "      <td>0.00</td>\n",
       "      <td>53.99</td>\n",
       "      <td>82.05</td>\n",
       "      <td>0.00</td>\n",
       "      <td>...</td>\n",
       "      <td>NaN</td>\n",
       "      <td>NaN</td>\n",
       "      <td>0.0</td>\n",
       "      <td>0.00</td>\n",
       "      <td>0.0</td>\n",
       "      <td>0.0</td>\n",
       "      <td>0.00</td>\n",
       "      <td>0.00</td>\n",
       "      <td>882</td>\n",
       "      <td>0</td>\n",
       "    </tr>\n",
       "    <tr>\n",
       "      <th>3</th>\n",
       "      <td>109</td>\n",
       "      <td>160</td>\n",
       "      <td>240</td>\n",
       "      <td>130</td>\n",
       "      <td>76.03</td>\n",
       "      <td>95.98</td>\n",
       "      <td>53.84</td>\n",
       "      <td>68.76</td>\n",
       "      <td>78.48</td>\n",
       "      <td>50.23</td>\n",
       "      <td>...</td>\n",
       "      <td>NaN</td>\n",
       "      <td>NaN</td>\n",
       "      <td>0.0</td>\n",
       "      <td>0.00</td>\n",
       "      <td>0.0</td>\n",
       "      <td>0.0</td>\n",
       "      <td>0.00</td>\n",
       "      <td>0.00</td>\n",
       "      <td>982</td>\n",
       "      <td>0</td>\n",
       "    </tr>\n",
       "    <tr>\n",
       "      <th>4</th>\n",
       "      <td>109</td>\n",
       "      <td>290</td>\n",
       "      <td>136</td>\n",
       "      <td>122</td>\n",
       "      <td>63.26</td>\n",
       "      <td>42.94</td>\n",
       "      <td>15.76</td>\n",
       "      <td>56.99</td>\n",
       "      <td>38.11</td>\n",
       "      <td>9.63</td>\n",
       "      <td>...</td>\n",
       "      <td>35.12</td>\n",
       "      <td>0.0</td>\n",
       "      <td>0.0</td>\n",
       "      <td>0.00</td>\n",
       "      <td>0.0</td>\n",
       "      <td>390.8</td>\n",
       "      <td>308.89</td>\n",
       "      <td>213.47</td>\n",
       "      <td>647</td>\n",
       "      <td>0</td>\n",
       "    </tr>\n",
       "  </tbody>\n",
       "</table>\n",
       "<p>5 rows × 24 columns</p>\n",
       "</div>"
      ],
      "text/plain": [
       "    circle_id  total_rech_amt_6  total_rech_amt_7  total_rech_amt_8  \\\n",
       "id                                                                    \n",
       "0         109                77                65                10   \n",
       "1         109                 0               145                50   \n",
       "2         109                70               120                 0   \n",
       "3         109               160               240               130   \n",
       "4         109               290               136               122   \n",
       "\n",
       "    total_og_mou_6  total_og_mou_7  total_og_mou_8  offnet_mou_6  \\\n",
       "id                                                                 \n",
       "0            81.21          221.68            3.63         32.24   \n",
       "1             0.00           30.73           31.66          0.00   \n",
       "2            56.49           99.36            0.00         53.99   \n",
       "3            76.03           95.98           53.84         68.76   \n",
       "4            63.26           42.94           15.76         56.99   \n",
       "\n",
       "    offnet_mou_7  offnet_mou_8  ...  arpu_2g_7  arpu_2g_8  vol_3g_mb_6  \\\n",
       "id                              ...                                      \n",
       "0          96.68          2.33  ...        NaN        NaN          0.0   \n",
       "1          25.99         30.89  ...     122.08        NaN          0.0   \n",
       "2          82.05          0.00  ...        NaN        NaN          0.0   \n",
       "3          78.48         50.23  ...        NaN        NaN          0.0   \n",
       "4          38.11          9.63  ...      35.12        0.0          0.0   \n",
       "\n",
       "    vol_3g_mb_7  vol_3g_mb_8  vol_2g_mb_6  vol_2g_mb_7  vol_2g_mb_8   aon  \\\n",
       "id                                                                          \n",
       "0          0.00          0.0          0.0         0.00         0.00  1958   \n",
       "1          3.96          0.0          0.0       352.91         0.00   710   \n",
       "2          0.00          0.0          0.0         0.00         0.00   882   \n",
       "3          0.00          0.0          0.0         0.00         0.00   982   \n",
       "4          0.00          0.0        390.8       308.89       213.47   647   \n",
       "\n",
       "    churn_probability  \n",
       "id                     \n",
       "0                   0  \n",
       "1                   0  \n",
       "2                   0  \n",
       "3                   0  \n",
       "4                   0  \n",
       "\n",
       "[5 rows x 24 columns]"
      ]
     },
     "execution_count": 4,
     "metadata": {},
     "output_type": "execute_result"
    }
   ],
   "source": [
    "data.head()"
   ]
  },
  {
   "cell_type": "markdown",
   "id": "744d6251",
   "metadata": {
    "papermill": {
     "duration": 0.064977,
     "end_time": "2022-05-24T08:45:56.812217",
     "exception": false,
     "start_time": "2022-05-24T08:45:56.747240",
     "status": "completed"
    },
    "tags": []
   },
   "source": [
    "Let's look at each variable's datatype:"
   ]
  },
  {
   "cell_type": "code",
   "execution_count": 5,
   "id": "7dba15d5",
   "metadata": {
    "execution": {
     "iopub.execute_input": "2022-05-24T08:45:56.946961Z",
     "iopub.status.busy": "2022-05-24T08:45:56.946686Z",
     "iopub.status.idle": "2022-05-24T08:45:56.968837Z",
     "shell.execute_reply": "2022-05-24T08:45:56.967570Z"
    },
    "papermill": {
     "duration": 0.091325,
     "end_time": "2022-05-24T08:45:56.970720",
     "exception": false,
     "start_time": "2022-05-24T08:45:56.879395",
     "status": "completed"
    },
    "tags": []
   },
   "outputs": [
    {
     "name": "stdout",
     "output_type": "stream",
     "text": [
      "<class 'pandas.core.frame.DataFrame'>\n",
      "Int64Index: 69999 entries, 0 to 69998\n",
      "Data columns (total 24 columns):\n",
      " #   Column             Non-Null Count  Dtype  \n",
      "---  ------             --------------  -----  \n",
      " 0   circle_id          69999 non-null  int64  \n",
      " 1   total_rech_amt_6   69999 non-null  int64  \n",
      " 2   total_rech_amt_7   69999 non-null  int64  \n",
      " 3   total_rech_amt_8   69999 non-null  int64  \n",
      " 4   total_og_mou_6     69999 non-null  float64\n",
      " 5   total_og_mou_7     69999 non-null  float64\n",
      " 6   total_og_mou_8     69999 non-null  float64\n",
      " 7   offnet_mou_6       67231 non-null  float64\n",
      " 8   offnet_mou_7       67312 non-null  float64\n",
      " 9   offnet_mou_8       66296 non-null  float64\n",
      " 10  arpu_3g_6          17568 non-null  float64\n",
      " 11  arpu_3g_7          17865 non-null  float64\n",
      " 12  arpu_3g_8          18417 non-null  float64\n",
      " 13  arpu_2g_6          17568 non-null  float64\n",
      " 14  arpu_2g_7          17865 non-null  float64\n",
      " 15  arpu_2g_8          18417 non-null  float64\n",
      " 16  vol_3g_mb_6        69999 non-null  float64\n",
      " 17  vol_3g_mb_7        69999 non-null  float64\n",
      " 18  vol_3g_mb_8        69999 non-null  float64\n",
      " 19  vol_2g_mb_6        69999 non-null  float64\n",
      " 20  vol_2g_mb_7        69999 non-null  float64\n",
      " 21  vol_2g_mb_8        69999 non-null  float64\n",
      " 22  aon                69999 non-null  int64  \n",
      " 23  churn_probability  69999 non-null  int64  \n",
      "dtypes: float64(18), int64(6)\n",
      "memory usage: 13.4 MB\n"
     ]
    }
   ],
   "source": [
    "data.info(verbose=1)"
   ]
  },
  {
   "cell_type": "markdown",
   "id": "a7fced65",
   "metadata": {
    "papermill": {
     "duration": 0.064727,
     "end_time": "2022-05-24T08:45:57.103300",
     "exception": false,
     "start_time": "2022-05-24T08:45:57.038573",
     "status": "completed"
    },
    "tags": []
   },
   "source": [
    "Let's also summarize the features using the df.describe method:"
   ]
  },
  {
   "cell_type": "code",
   "execution_count": 6,
   "id": "84d66d43",
   "metadata": {
    "execution": {
     "iopub.execute_input": "2022-05-24T08:45:57.237625Z",
     "iopub.status.busy": "2022-05-24T08:45:57.237062Z",
     "iopub.status.idle": "2022-05-24T08:45:57.369464Z",
     "shell.execute_reply": "2022-05-24T08:45:57.368665Z"
    },
    "papermill": {
     "duration": 0.201272,
     "end_time": "2022-05-24T08:45:57.371563",
     "exception": false,
     "start_time": "2022-05-24T08:45:57.170291",
     "status": "completed"
    },
    "tags": []
   },
   "outputs": [
    {
     "data": {
      "text/html": [
       "<div>\n",
       "<style scoped>\n",
       "    .dataframe tbody tr th:only-of-type {\n",
       "        vertical-align: middle;\n",
       "    }\n",
       "\n",
       "    .dataframe tbody tr th {\n",
       "        vertical-align: top;\n",
       "    }\n",
       "\n",
       "    .dataframe thead th {\n",
       "        text-align: right;\n",
       "    }\n",
       "</style>\n",
       "<table border=\"1\" class=\"dataframe\">\n",
       "  <thead>\n",
       "    <tr style=\"text-align: right;\">\n",
       "      <th></th>\n",
       "      <th>circle_id</th>\n",
       "      <th>total_rech_amt_6</th>\n",
       "      <th>total_rech_amt_7</th>\n",
       "      <th>total_rech_amt_8</th>\n",
       "      <th>total_og_mou_6</th>\n",
       "      <th>total_og_mou_7</th>\n",
       "      <th>total_og_mou_8</th>\n",
       "      <th>offnet_mou_6</th>\n",
       "      <th>offnet_mou_7</th>\n",
       "      <th>offnet_mou_8</th>\n",
       "      <th>...</th>\n",
       "      <th>arpu_2g_7</th>\n",
       "      <th>arpu_2g_8</th>\n",
       "      <th>vol_3g_mb_6</th>\n",
       "      <th>vol_3g_mb_7</th>\n",
       "      <th>vol_3g_mb_8</th>\n",
       "      <th>vol_2g_mb_6</th>\n",
       "      <th>vol_2g_mb_7</th>\n",
       "      <th>vol_2g_mb_8</th>\n",
       "      <th>aon</th>\n",
       "      <th>churn_probability</th>\n",
       "    </tr>\n",
       "  </thead>\n",
       "  <tbody>\n",
       "    <tr>\n",
       "      <th>count</th>\n",
       "      <td>69999.0</td>\n",
       "      <td>69999.000000</td>\n",
       "      <td>69999.000000</td>\n",
       "      <td>69999.000000</td>\n",
       "      <td>69999.000000</td>\n",
       "      <td>69999.000000</td>\n",
       "      <td>69999.000000</td>\n",
       "      <td>67231.000000</td>\n",
       "      <td>67312.000000</td>\n",
       "      <td>66296.000000</td>\n",
       "      <td>...</td>\n",
       "      <td>17865.000000</td>\n",
       "      <td>18417.000000</td>\n",
       "      <td>69999.000000</td>\n",
       "      <td>69999.000000</td>\n",
       "      <td>69999.000000</td>\n",
       "      <td>69999.000000</td>\n",
       "      <td>69999.000000</td>\n",
       "      <td>69999.000000</td>\n",
       "      <td>69999.000000</td>\n",
       "      <td>69999.000000</td>\n",
       "    </tr>\n",
       "    <tr>\n",
       "      <th>mean</th>\n",
       "      <td>109.0</td>\n",
       "      <td>328.139788</td>\n",
       "      <td>322.376363</td>\n",
       "      <td>323.846355</td>\n",
       "      <td>306.451436</td>\n",
       "      <td>310.572674</td>\n",
       "      <td>304.513065</td>\n",
       "      <td>198.874771</td>\n",
       "      <td>197.153383</td>\n",
       "      <td>196.543577</td>\n",
       "      <td>...</td>\n",
       "      <td>85.846074</td>\n",
       "      <td>86.348404</td>\n",
       "      <td>122.171882</td>\n",
       "      <td>128.934444</td>\n",
       "      <td>135.486541</td>\n",
       "      <td>51.773924</td>\n",
       "      <td>51.240204</td>\n",
       "      <td>50.127506</td>\n",
       "      <td>1220.639709</td>\n",
       "      <td>0.101887</td>\n",
       "    </tr>\n",
       "    <tr>\n",
       "      <th>std</th>\n",
       "      <td>0.0</td>\n",
       "      <td>404.211068</td>\n",
       "      <td>411.070120</td>\n",
       "      <td>426.181405</td>\n",
       "      <td>465.502866</td>\n",
       "      <td>479.131770</td>\n",
       "      <td>477.936832</td>\n",
       "      <td>316.818355</td>\n",
       "      <td>322.482226</td>\n",
       "      <td>324.089234</td>\n",
       "      <td>...</td>\n",
       "      <td>178.067280</td>\n",
       "      <td>170.297094</td>\n",
       "      <td>554.869965</td>\n",
       "      <td>554.096072</td>\n",
       "      <td>568.310234</td>\n",
       "      <td>212.513909</td>\n",
       "      <td>211.114667</td>\n",
       "      <td>213.101403</td>\n",
       "      <td>952.426321</td>\n",
       "      <td>0.302502</td>\n",
       "    </tr>\n",
       "    <tr>\n",
       "      <th>min</th>\n",
       "      <td>109.0</td>\n",
       "      <td>0.000000</td>\n",
       "      <td>0.000000</td>\n",
       "      <td>0.000000</td>\n",
       "      <td>0.000000</td>\n",
       "      <td>0.000000</td>\n",
       "      <td>0.000000</td>\n",
       "      <td>0.000000</td>\n",
       "      <td>0.000000</td>\n",
       "      <td>0.000000</td>\n",
       "      <td>...</td>\n",
       "      <td>-13.090000</td>\n",
       "      <td>-55.830000</td>\n",
       "      <td>0.000000</td>\n",
       "      <td>0.000000</td>\n",
       "      <td>0.000000</td>\n",
       "      <td>0.000000</td>\n",
       "      <td>0.000000</td>\n",
       "      <td>0.000000</td>\n",
       "      <td>180.000000</td>\n",
       "      <td>0.000000</td>\n",
       "    </tr>\n",
       "    <tr>\n",
       "      <th>25%</th>\n",
       "      <td>109.0</td>\n",
       "      <td>110.000000</td>\n",
       "      <td>100.000000</td>\n",
       "      <td>90.000000</td>\n",
       "      <td>44.780000</td>\n",
       "      <td>42.910000</td>\n",
       "      <td>38.710000</td>\n",
       "      <td>34.860000</td>\n",
       "      <td>32.240000</td>\n",
       "      <td>31.575000</td>\n",
       "      <td>...</td>\n",
       "      <td>0.000000</td>\n",
       "      <td>0.000000</td>\n",
       "      <td>0.000000</td>\n",
       "      <td>0.000000</td>\n",
       "      <td>0.000000</td>\n",
       "      <td>0.000000</td>\n",
       "      <td>0.000000</td>\n",
       "      <td>0.000000</td>\n",
       "      <td>468.000000</td>\n",
       "      <td>0.000000</td>\n",
       "    </tr>\n",
       "    <tr>\n",
       "      <th>50%</th>\n",
       "      <td>109.0</td>\n",
       "      <td>229.000000</td>\n",
       "      <td>220.000000</td>\n",
       "      <td>225.000000</td>\n",
       "      <td>145.280000</td>\n",
       "      <td>141.230000</td>\n",
       "      <td>138.360000</td>\n",
       "      <td>96.480000</td>\n",
       "      <td>91.885000</td>\n",
       "      <td>91.800000</td>\n",
       "      <td>...</td>\n",
       "      <td>8.800000</td>\n",
       "      <td>9.090000</td>\n",
       "      <td>0.000000</td>\n",
       "      <td>0.000000</td>\n",
       "      <td>0.000000</td>\n",
       "      <td>0.000000</td>\n",
       "      <td>0.000000</td>\n",
       "      <td>0.000000</td>\n",
       "      <td>868.000000</td>\n",
       "      <td>0.000000</td>\n",
       "    </tr>\n",
       "    <tr>\n",
       "      <th>75%</th>\n",
       "      <td>109.0</td>\n",
       "      <td>438.000000</td>\n",
       "      <td>430.000000</td>\n",
       "      <td>436.000000</td>\n",
       "      <td>374.305000</td>\n",
       "      <td>380.045000</td>\n",
       "      <td>370.895000</td>\n",
       "      <td>232.990000</td>\n",
       "      <td>227.630000</td>\n",
       "      <td>229.345000</td>\n",
       "      <td>...</td>\n",
       "      <td>122.070000</td>\n",
       "      <td>122.070000</td>\n",
       "      <td>0.000000</td>\n",
       "      <td>0.000000</td>\n",
       "      <td>0.000000</td>\n",
       "      <td>0.000000</td>\n",
       "      <td>0.000000</td>\n",
       "      <td>0.000000</td>\n",
       "      <td>1813.000000</td>\n",
       "      <td>0.000000</td>\n",
       "    </tr>\n",
       "    <tr>\n",
       "      <th>max</th>\n",
       "      <td>109.0</td>\n",
       "      <td>35190.000000</td>\n",
       "      <td>40335.000000</td>\n",
       "      <td>45320.000000</td>\n",
       "      <td>10674.030000</td>\n",
       "      <td>8285.640000</td>\n",
       "      <td>14043.060000</td>\n",
       "      <td>8362.360000</td>\n",
       "      <td>7043.980000</td>\n",
       "      <td>14007.340000</td>\n",
       "      <td>...</td>\n",
       "      <td>4809.360000</td>\n",
       "      <td>3483.170000</td>\n",
       "      <td>45735.400000</td>\n",
       "      <td>28144.120000</td>\n",
       "      <td>30036.060000</td>\n",
       "      <td>10285.900000</td>\n",
       "      <td>7873.550000</td>\n",
       "      <td>11117.610000</td>\n",
       "      <td>4337.000000</td>\n",
       "      <td>1.000000</td>\n",
       "    </tr>\n",
       "  </tbody>\n",
       "</table>\n",
       "<p>8 rows × 24 columns</p>\n",
       "</div>"
      ],
      "text/plain": [
       "       circle_id  total_rech_amt_6  total_rech_amt_7  total_rech_amt_8  \\\n",
       "count    69999.0      69999.000000      69999.000000      69999.000000   \n",
       "mean       109.0        328.139788        322.376363        323.846355   \n",
       "std          0.0        404.211068        411.070120        426.181405   \n",
       "min        109.0          0.000000          0.000000          0.000000   \n",
       "25%        109.0        110.000000        100.000000         90.000000   \n",
       "50%        109.0        229.000000        220.000000        225.000000   \n",
       "75%        109.0        438.000000        430.000000        436.000000   \n",
       "max        109.0      35190.000000      40335.000000      45320.000000   \n",
       "\n",
       "       total_og_mou_6  total_og_mou_7  total_og_mou_8  offnet_mou_6  \\\n",
       "count    69999.000000    69999.000000    69999.000000  67231.000000   \n",
       "mean       306.451436      310.572674      304.513065    198.874771   \n",
       "std        465.502866      479.131770      477.936832    316.818355   \n",
       "min          0.000000        0.000000        0.000000      0.000000   \n",
       "25%         44.780000       42.910000       38.710000     34.860000   \n",
       "50%        145.280000      141.230000      138.360000     96.480000   \n",
       "75%        374.305000      380.045000      370.895000    232.990000   \n",
       "max      10674.030000     8285.640000    14043.060000   8362.360000   \n",
       "\n",
       "       offnet_mou_7  offnet_mou_8  ...     arpu_2g_7     arpu_2g_8  \\\n",
       "count  67312.000000  66296.000000  ...  17865.000000  18417.000000   \n",
       "mean     197.153383    196.543577  ...     85.846074     86.348404   \n",
       "std      322.482226    324.089234  ...    178.067280    170.297094   \n",
       "min        0.000000      0.000000  ...    -13.090000    -55.830000   \n",
       "25%       32.240000     31.575000  ...      0.000000      0.000000   \n",
       "50%       91.885000     91.800000  ...      8.800000      9.090000   \n",
       "75%      227.630000    229.345000  ...    122.070000    122.070000   \n",
       "max     7043.980000  14007.340000  ...   4809.360000   3483.170000   \n",
       "\n",
       "        vol_3g_mb_6   vol_3g_mb_7   vol_3g_mb_8   vol_2g_mb_6   vol_2g_mb_7  \\\n",
       "count  69999.000000  69999.000000  69999.000000  69999.000000  69999.000000   \n",
       "mean     122.171882    128.934444    135.486541     51.773924     51.240204   \n",
       "std      554.869965    554.096072    568.310234    212.513909    211.114667   \n",
       "min        0.000000      0.000000      0.000000      0.000000      0.000000   \n",
       "25%        0.000000      0.000000      0.000000      0.000000      0.000000   \n",
       "50%        0.000000      0.000000      0.000000      0.000000      0.000000   \n",
       "75%        0.000000      0.000000      0.000000      0.000000      0.000000   \n",
       "max    45735.400000  28144.120000  30036.060000  10285.900000   7873.550000   \n",
       "\n",
       "        vol_2g_mb_8           aon  churn_probability  \n",
       "count  69999.000000  69999.000000       69999.000000  \n",
       "mean      50.127506   1220.639709           0.101887  \n",
       "std      213.101403    952.426321           0.302502  \n",
       "min        0.000000    180.000000           0.000000  \n",
       "25%        0.000000    468.000000           0.000000  \n",
       "50%        0.000000    868.000000           0.000000  \n",
       "75%        0.000000   1813.000000           0.000000  \n",
       "max    11117.610000   4337.000000           1.000000  \n",
       "\n",
       "[8 rows x 24 columns]"
      ]
     },
     "execution_count": 6,
     "metadata": {},
     "output_type": "execute_result"
    }
   ],
   "source": [
    "data.describe(include=\"all\")"
   ]
  },
  {
   "cell_type": "markdown",
   "id": "b66721b5",
   "metadata": {
    "papermill": {
     "duration": 0.065563,
     "end_time": "2022-05-24T08:45:57.504519",
     "exception": false,
     "start_time": "2022-05-24T08:45:57.438956",
     "status": "completed"
    },
    "tags": []
   },
   "source": [
    "# 2. Create X, y and then Train test split\n",
    "\n",
    "Lets create X and y datasets and skip \"circle_id\" since it has only 1 unique value"
   ]
  },
  {
   "cell_type": "code",
   "execution_count": 7,
   "id": "bcdc7673",
   "metadata": {
    "execution": {
     "iopub.execute_input": "2022-05-24T08:45:57.638065Z",
     "iopub.status.busy": "2022-05-24T08:45:57.637782Z",
     "iopub.status.idle": "2022-05-24T08:45:57.642970Z",
     "shell.execute_reply": "2022-05-24T08:45:57.642533Z"
    },
    "papermill": {
     "duration": 0.074206,
     "end_time": "2022-05-24T08:45:57.644427",
     "exception": false,
     "start_time": "2022-05-24T08:45:57.570221",
     "status": "completed"
    },
    "tags": []
   },
   "outputs": [
    {
     "data": {
      "text/plain": [
       "array([109], dtype=int64)"
      ]
     },
     "execution_count": 7,
     "metadata": {},
     "output_type": "execute_result"
    }
   ],
   "source": [
    "data['circle_id'].unique()"
   ]
  },
  {
   "cell_type": "code",
   "execution_count": 8,
   "id": "05f14fc0",
   "metadata": {
    "execution": {
     "iopub.execute_input": "2022-05-24T08:45:57.779846Z",
     "iopub.status.busy": "2022-05-24T08:45:57.779153Z",
     "iopub.status.idle": "2022-05-24T08:45:57.793568Z",
     "shell.execute_reply": "2022-05-24T08:45:57.792893Z"
    },
    "papermill": {
     "duration": 0.084414,
     "end_time": "2022-05-24T08:45:57.795438",
     "exception": false,
     "start_time": "2022-05-24T08:45:57.711024",
     "status": "completed"
    },
    "tags": []
   },
   "outputs": [
    {
     "data": {
      "text/plain": [
       "((69999, 22), (69999,))"
      ]
     },
     "execution_count": 8,
     "metadata": {},
     "output_type": "execute_result"
    }
   ],
   "source": [
    "X = data.drop(['circle_id'],1).iloc[:,:-1]\n",
    "y = data.iloc[:,-1]\n",
    "\n",
    "X.shape, y.shape"
   ]
  },
  {
   "cell_type": "markdown",
   "id": "54e0d062",
   "metadata": {
    "papermill": {
     "duration": 0.064976,
     "end_time": "2022-05-24T08:45:57.926742",
     "exception": false,
     "start_time": "2022-05-24T08:45:57.861766",
     "status": "completed"
    },
    "tags": []
   },
   "source": [
    "Splitting train and test data to avoid any contamination of the test data"
   ]
  },
  {
   "cell_type": "code",
   "execution_count": 9,
   "id": "ac15e6c2",
   "metadata": {
    "execution": {
     "iopub.execute_input": "2022-05-24T08:45:58.064423Z",
     "iopub.status.busy": "2022-05-24T08:45:58.063960Z",
     "iopub.status.idle": "2022-05-24T08:45:58.085681Z",
     "shell.execute_reply": "2022-05-24T08:45:58.084800Z"
    },
    "papermill": {
     "duration": 0.092452,
     "end_time": "2022-05-24T08:45:58.087552",
     "exception": false,
     "start_time": "2022-05-24T08:45:57.995100",
     "status": "completed"
    },
    "tags": []
   },
   "outputs": [
    {
     "data": {
      "text/plain": [
       "((55999, 22), (14000, 22), (55999,), (14000,))"
      ]
     },
     "execution_count": 9,
     "metadata": {},
     "output_type": "execute_result"
    }
   ],
   "source": [
    "X_train, X_test, y_train, y_test = train_test_split(X, y, test_size=0.2)\n",
    "\n",
    "X_train.shape, X_test.shape, y_train.shape, y_test.shape"
   ]
  },
  {
   "cell_type": "code",
   "execution_count": 10,
   "id": "9523ffd9",
   "metadata": {
    "execution": {
     "iopub.execute_input": "2022-05-24T08:45:58.224337Z",
     "iopub.status.busy": "2022-05-24T08:45:58.223849Z",
     "iopub.status.idle": "2022-05-24T08:45:58.250053Z",
     "shell.execute_reply": "2022-05-24T08:45:58.249212Z"
    },
    "papermill": {
     "duration": 0.097122,
     "end_time": "2022-05-24T08:45:58.251938",
     "exception": false,
     "start_time": "2022-05-24T08:45:58.154816",
     "status": "completed"
    },
    "tags": []
   },
   "outputs": [
    {
     "data": {
      "text/html": [
       "<div>\n",
       "<style scoped>\n",
       "    .dataframe tbody tr th:only-of-type {\n",
       "        vertical-align: middle;\n",
       "    }\n",
       "\n",
       "    .dataframe tbody tr th {\n",
       "        vertical-align: top;\n",
       "    }\n",
       "\n",
       "    .dataframe thead th {\n",
       "        text-align: right;\n",
       "    }\n",
       "</style>\n",
       "<table border=\"1\" class=\"dataframe\">\n",
       "  <thead>\n",
       "    <tr style=\"text-align: right;\">\n",
       "      <th></th>\n",
       "      <th>total_rech_amt_6</th>\n",
       "      <th>total_rech_amt_7</th>\n",
       "      <th>total_rech_amt_8</th>\n",
       "      <th>total_og_mou_6</th>\n",
       "      <th>total_og_mou_7</th>\n",
       "      <th>total_og_mou_8</th>\n",
       "      <th>offnet_mou_6</th>\n",
       "      <th>offnet_mou_7</th>\n",
       "      <th>offnet_mou_8</th>\n",
       "      <th>arpu_3g_6</th>\n",
       "      <th>...</th>\n",
       "      <th>arpu_2g_6</th>\n",
       "      <th>arpu_2g_7</th>\n",
       "      <th>arpu_2g_8</th>\n",
       "      <th>vol_3g_mb_6</th>\n",
       "      <th>vol_3g_mb_7</th>\n",
       "      <th>vol_3g_mb_8</th>\n",
       "      <th>vol_2g_mb_6</th>\n",
       "      <th>vol_2g_mb_7</th>\n",
       "      <th>vol_2g_mb_8</th>\n",
       "      <th>aon</th>\n",
       "    </tr>\n",
       "    <tr>\n",
       "      <th>id</th>\n",
       "      <th></th>\n",
       "      <th></th>\n",
       "      <th></th>\n",
       "      <th></th>\n",
       "      <th></th>\n",
       "      <th></th>\n",
       "      <th></th>\n",
       "      <th></th>\n",
       "      <th></th>\n",
       "      <th></th>\n",
       "      <th></th>\n",
       "      <th></th>\n",
       "      <th></th>\n",
       "      <th></th>\n",
       "      <th></th>\n",
       "      <th></th>\n",
       "      <th></th>\n",
       "      <th></th>\n",
       "      <th></th>\n",
       "      <th></th>\n",
       "      <th></th>\n",
       "    </tr>\n",
       "  </thead>\n",
       "  <tbody>\n",
       "    <tr>\n",
       "      <th>30385</th>\n",
       "      <td>280</td>\n",
       "      <td>380</td>\n",
       "      <td>350</td>\n",
       "      <td>255.19</td>\n",
       "      <td>288.81</td>\n",
       "      <td>284.91</td>\n",
       "      <td>152.06</td>\n",
       "      <td>176.01</td>\n",
       "      <td>181.79</td>\n",
       "      <td>NaN</td>\n",
       "      <td>...</td>\n",
       "      <td>NaN</td>\n",
       "      <td>NaN</td>\n",
       "      <td>NaN</td>\n",
       "      <td>0.0</td>\n",
       "      <td>0.0</td>\n",
       "      <td>0.0</td>\n",
       "      <td>0.00</td>\n",
       "      <td>0.00</td>\n",
       "      <td>0.00</td>\n",
       "      <td>278</td>\n",
       "    </tr>\n",
       "    <tr>\n",
       "      <th>27574</th>\n",
       "      <td>565</td>\n",
       "      <td>537</td>\n",
       "      <td>905</td>\n",
       "      <td>572.04</td>\n",
       "      <td>717.64</td>\n",
       "      <td>1100.19</td>\n",
       "      <td>163.21</td>\n",
       "      <td>212.58</td>\n",
       "      <td>461.01</td>\n",
       "      <td>0.0</td>\n",
       "      <td>...</td>\n",
       "      <td>0.01</td>\n",
       "      <td>0.01</td>\n",
       "      <td>0.0</td>\n",
       "      <td>0.0</td>\n",
       "      <td>0.0</td>\n",
       "      <td>0.0</td>\n",
       "      <td>1386.43</td>\n",
       "      <td>788.24</td>\n",
       "      <td>444.55</td>\n",
       "      <td>370</td>\n",
       "    </tr>\n",
       "    <tr>\n",
       "      <th>23947</th>\n",
       "      <td>240</td>\n",
       "      <td>360</td>\n",
       "      <td>625</td>\n",
       "      <td>597.19</td>\n",
       "      <td>863.38</td>\n",
       "      <td>1093.11</td>\n",
       "      <td>344.63</td>\n",
       "      <td>393.01</td>\n",
       "      <td>529.56</td>\n",
       "      <td>NaN</td>\n",
       "      <td>...</td>\n",
       "      <td>NaN</td>\n",
       "      <td>NaN</td>\n",
       "      <td>NaN</td>\n",
       "      <td>0.0</td>\n",
       "      <td>0.0</td>\n",
       "      <td>0.0</td>\n",
       "      <td>0.00</td>\n",
       "      <td>0.00</td>\n",
       "      <td>0.00</td>\n",
       "      <td>2766</td>\n",
       "    </tr>\n",
       "    <tr>\n",
       "      <th>9828</th>\n",
       "      <td>150</td>\n",
       "      <td>253</td>\n",
       "      <td>180</td>\n",
       "      <td>118.66</td>\n",
       "      <td>215.71</td>\n",
       "      <td>131.93</td>\n",
       "      <td>114.43</td>\n",
       "      <td>215.49</td>\n",
       "      <td>125.58</td>\n",
       "      <td>NaN</td>\n",
       "      <td>...</td>\n",
       "      <td>NaN</td>\n",
       "      <td>NaN</td>\n",
       "      <td>NaN</td>\n",
       "      <td>0.0</td>\n",
       "      <td>0.0</td>\n",
       "      <td>0.0</td>\n",
       "      <td>0.00</td>\n",
       "      <td>0.00</td>\n",
       "      <td>0.00</td>\n",
       "      <td>2516</td>\n",
       "    </tr>\n",
       "    <tr>\n",
       "      <th>31321</th>\n",
       "      <td>221</td>\n",
       "      <td>537</td>\n",
       "      <td>160</td>\n",
       "      <td>2627.36</td>\n",
       "      <td>350.64</td>\n",
       "      <td>96.04</td>\n",
       "      <td>57.26</td>\n",
       "      <td>119.79</td>\n",
       "      <td>58.56</td>\n",
       "      <td>NaN</td>\n",
       "      <td>...</td>\n",
       "      <td>NaN</td>\n",
       "      <td>NaN</td>\n",
       "      <td>NaN</td>\n",
       "      <td>0.0</td>\n",
       "      <td>0.0</td>\n",
       "      <td>0.0</td>\n",
       "      <td>0.00</td>\n",
       "      <td>0.00</td>\n",
       "      <td>0.00</td>\n",
       "      <td>242</td>\n",
       "    </tr>\n",
       "  </tbody>\n",
       "</table>\n",
       "<p>5 rows × 22 columns</p>\n",
       "</div>"
      ],
      "text/plain": [
       "       total_rech_amt_6  total_rech_amt_7  total_rech_amt_8  total_og_mou_6  \\\n",
       "id                                                                            \n",
       "30385               280               380               350          255.19   \n",
       "27574               565               537               905          572.04   \n",
       "23947               240               360               625          597.19   \n",
       "9828                150               253               180          118.66   \n",
       "31321               221               537               160         2627.36   \n",
       "\n",
       "       total_og_mou_7  total_og_mou_8  offnet_mou_6  offnet_mou_7  \\\n",
       "id                                                                  \n",
       "30385          288.81          284.91        152.06        176.01   \n",
       "27574          717.64         1100.19        163.21        212.58   \n",
       "23947          863.38         1093.11        344.63        393.01   \n",
       "9828           215.71          131.93        114.43        215.49   \n",
       "31321          350.64           96.04         57.26        119.79   \n",
       "\n",
       "       offnet_mou_8  arpu_3g_6  ...  arpu_2g_6  arpu_2g_7  arpu_2g_8  \\\n",
       "id                              ...                                    \n",
       "30385        181.79        NaN  ...        NaN        NaN        NaN   \n",
       "27574        461.01        0.0  ...       0.01       0.01        0.0   \n",
       "23947        529.56        NaN  ...        NaN        NaN        NaN   \n",
       "9828         125.58        NaN  ...        NaN        NaN        NaN   \n",
       "31321         58.56        NaN  ...        NaN        NaN        NaN   \n",
       "\n",
       "       vol_3g_mb_6  vol_3g_mb_7  vol_3g_mb_8  vol_2g_mb_6  vol_2g_mb_7  \\\n",
       "id                                                                       \n",
       "30385          0.0          0.0          0.0         0.00         0.00   \n",
       "27574          0.0          0.0          0.0      1386.43       788.24   \n",
       "23947          0.0          0.0          0.0         0.00         0.00   \n",
       "9828           0.0          0.0          0.0         0.00         0.00   \n",
       "31321          0.0          0.0          0.0         0.00         0.00   \n",
       "\n",
       "       vol_2g_mb_8   aon  \n",
       "id                        \n",
       "30385         0.00   278  \n",
       "27574       444.55   370  \n",
       "23947         0.00  2766  \n",
       "9828          0.00  2516  \n",
       "31321         0.00   242  \n",
       "\n",
       "[5 rows x 22 columns]"
      ]
     },
     "execution_count": 10,
     "metadata": {},
     "output_type": "execute_result"
    }
   ],
   "source": [
    "X_train.head()"
   ]
  },
  {
   "cell_type": "markdown",
   "id": "04b7a685",
   "metadata": {
    "papermill": {
     "duration": 0.067226,
     "end_time": "2022-05-24T08:45:58.387309",
     "exception": false,
     "start_time": "2022-05-24T08:45:58.320083",
     "status": "completed"
    },
    "tags": []
   },
   "source": [
    "# 3. Handling Missing data"
   ]
  },
  {
   "cell_type": "markdown",
   "id": "3909b16a",
   "metadata": {
    "papermill": {
     "duration": 0.072948,
     "end_time": "2022-05-24T08:46:00.952690",
     "exception": false,
     "start_time": "2022-05-24T08:46:00.879742",
     "status": "completed"
    },
    "tags": []
   },
   "source": [
    "Lets also calculate the % missing data for each column:"
   ]
  },
  {
   "cell_type": "code",
   "execution_count": 11,
   "id": "5bbdda8d",
   "metadata": {
    "execution": {
     "iopub.execute_input": "2022-05-24T08:46:01.103623Z",
     "iopub.status.busy": "2022-05-24T08:46:01.103121Z",
     "iopub.status.idle": "2022-05-24T08:46:01.114842Z",
     "shell.execute_reply": "2022-05-24T08:46:01.114128Z"
    },
    "papermill": {
     "duration": 0.089519,
     "end_time": "2022-05-24T08:46:01.116714",
     "exception": false,
     "start_time": "2022-05-24T08:46:01.027195",
     "status": "completed"
    },
    "tags": []
   },
   "outputs": [
    {
     "data": {
      "text/plain": [
       "arpu_3g_6           74.965624\n",
       "arpu_2g_6           74.965624\n",
       "arpu_3g_7           74.503116\n",
       "arpu_2g_7           74.503116\n",
       "arpu_3g_8           73.740603\n",
       "arpu_2g_8           73.740603\n",
       "offnet_mou_8         5.244737\n",
       "offnet_mou_6         3.941142\n",
       "offnet_mou_7         3.832211\n",
       "vol_3g_mb_6          0.000000\n",
       "vol_2g_mb_8          0.000000\n",
       "vol_2g_mb_7          0.000000\n",
       "vol_2g_mb_6          0.000000\n",
       "vol_3g_mb_8          0.000000\n",
       "vol_3g_mb_7          0.000000\n",
       "total_rech_amt_6     0.000000\n",
       "total_rech_amt_7     0.000000\n",
       "total_og_mou_8       0.000000\n",
       "total_og_mou_7       0.000000\n",
       "total_og_mou_6       0.000000\n",
       "total_rech_amt_8     0.000000\n",
       "aon                  0.000000\n",
       "dtype: float64"
      ]
     },
     "execution_count": 11,
     "metadata": {},
     "output_type": "execute_result"
    }
   ],
   "source": [
    "missing_data_percent = (100*X_train.isnull().sum()/len(y_train)).sort_values(ascending = False)\n",
    "missing_data_percent"
   ]
  },
  {
   "cell_type": "markdown",
   "id": "898df44f",
   "metadata": {
    "papermill": {
     "duration": 0.071888,
     "end_time": "2022-05-24T08:46:01.260776",
     "exception": false,
     "start_time": "2022-05-24T08:46:01.188888",
     "status": "completed"
    },
    "tags": []
   },
   "source": [
    "Since too much missing information would make a column not really a great predictor for churn, we drop these columns and keep only the ones which have less than 40% missing data."
   ]
  },
  {
   "cell_type": "code",
   "execution_count": 12,
   "id": "4a2f0b9e",
   "metadata": {
    "execution": {
     "iopub.execute_input": "2022-05-24T08:46:01.408819Z",
     "iopub.status.busy": "2022-05-24T08:46:01.408540Z",
     "iopub.status.idle": "2022-05-24T08:46:01.414758Z",
     "shell.execute_reply": "2022-05-24T08:46:01.413970Z"
    },
    "papermill": {
     "duration": 0.081841,
     "end_time": "2022-05-24T08:46:01.416485",
     "exception": false,
     "start_time": "2022-05-24T08:46:01.334644",
     "status": "completed"
    },
    "tags": []
   },
   "outputs": [
    {
     "data": {
      "text/plain": [
       "Index(['offnet_mou_8', 'offnet_mou_6', 'offnet_mou_7', 'vol_3g_mb_6',\n",
       "       'vol_2g_mb_8', 'vol_2g_mb_7', 'vol_2g_mb_6', 'vol_3g_mb_8',\n",
       "       'vol_3g_mb_7', 'total_rech_amt_6', 'total_rech_amt_7', 'total_og_mou_8',\n",
       "       'total_og_mou_7', 'total_og_mou_6', 'total_rech_amt_8', 'aon'],\n",
       "      dtype='object')"
      ]
     },
     "execution_count": 12,
     "metadata": {},
     "output_type": "execute_result"
    }
   ],
   "source": [
    "new_vars = missing_data_percent[missing_data_percent.le(40)].index\n",
    "new_vars"
   ]
  },
  {
   "cell_type": "code",
   "execution_count": 14,
   "id": "934203ff",
   "metadata": {
    "execution": {
     "iopub.execute_input": "2022-05-24T08:46:01.565200Z",
     "iopub.status.busy": "2022-05-24T08:46:01.564939Z",
     "iopub.status.idle": "2022-05-24T08:46:01.572545Z",
     "shell.execute_reply": "2022-05-24T08:46:01.571749Z"
    },
    "papermill": {
     "duration": 0.085173,
     "end_time": "2022-05-24T08:46:01.574563",
     "exception": false,
     "start_time": "2022-05-24T08:46:01.489390",
     "status": "completed"
    },
    "tags": []
   },
   "outputs": [
    {
     "data": {
      "text/plain": [
       "(55999, 16)"
      ]
     },
     "execution_count": 14,
     "metadata": {},
     "output_type": "execute_result"
    }
   ],
   "source": [
    "X_train_filtered = X_train[new_vars]\n",
    "X_train_filtered.shape"
   ]
  },
  {
   "cell_type": "markdown",
   "id": "8e0412b3",
   "metadata": {
    "papermill": {
     "duration": 0.073593,
     "end_time": "2022-05-24T08:46:01.722267",
     "exception": false,
     "start_time": "2022-05-24T08:46:01.648674",
     "status": "completed"
    },
    "tags": []
   },
   "source": [
    "Next, we try imputation on variables with any amount of missing data still left."
   ]
  },
  {
   "cell_type": "code",
   "execution_count": 15,
   "id": "eaf62714",
   "metadata": {
    "execution": {
     "iopub.execute_input": "2022-05-24T08:46:01.873183Z",
     "iopub.status.busy": "2022-05-24T08:46:01.872744Z",
     "iopub.status.idle": "2022-05-24T08:46:01.881170Z",
     "shell.execute_reply": "2022-05-24T08:46:01.880360Z"
    },
    "papermill": {
     "duration": 0.085208,
     "end_time": "2022-05-24T08:46:01.882855",
     "exception": false,
     "start_time": "2022-05-24T08:46:01.797647",
     "status": "completed"
    },
    "tags": []
   },
   "outputs": [
    {
     "data": {
      "text/plain": [
       "Index(['offnet_mou_8', 'offnet_mou_6', 'offnet_mou_7'], dtype='object')"
      ]
     },
     "execution_count": 15,
     "metadata": {},
     "output_type": "execute_result"
    }
   ],
   "source": [
    "missing_data_percent = X_train_filtered.isnull().any()\n",
    "impute_cols = missing_data_percent[missing_data_percent.gt(0)].index\n",
    "impute_cols"
   ]
  },
  {
   "cell_type": "code",
   "execution_count": 16,
   "id": "915e664c",
   "metadata": {
    "execution": {
     "iopub.execute_input": "2022-05-24T08:46:02.032137Z",
     "iopub.status.busy": "2022-05-24T08:46:02.031845Z",
     "iopub.status.idle": "2022-05-24T08:46:02.042792Z",
     "shell.execute_reply": "2022-05-24T08:46:02.042162Z"
    },
    "papermill": {
     "duration": 0.088081,
     "end_time": "2022-05-24T08:46:02.044642",
     "exception": false,
     "start_time": "2022-05-24T08:46:01.956561",
     "status": "completed"
    },
    "tags": []
   },
   "outputs": [],
   "source": [
    "imp = SimpleImputer(strategy='constant', fill_value=0)\n",
    "X_train_filtered[impute_cols] = imp.fit_transform(X_train_filtered[impute_cols])"
   ]
  },
  {
   "cell_type": "code",
   "execution_count": 17,
   "id": "813393b9",
   "metadata": {
    "execution": {
     "iopub.execute_input": "2022-05-24T08:46:03.185997Z",
     "iopub.status.busy": "2022-05-24T08:46:03.185423Z",
     "iopub.status.idle": "2022-05-24T08:46:03.269446Z",
     "shell.execute_reply": "2022-05-24T08:46:03.268636Z"
    },
    "papermill": {
     "duration": 0.165285,
     "end_time": "2022-05-24T08:46:03.271646",
     "exception": false,
     "start_time": "2022-05-24T08:46:03.106361",
     "status": "completed"
    },
    "tags": []
   },
   "outputs": [
    {
     "data": {
      "text/html": [
       "<div>\n",
       "<style scoped>\n",
       "    .dataframe tbody tr th:only-of-type {\n",
       "        vertical-align: middle;\n",
       "    }\n",
       "\n",
       "    .dataframe tbody tr th {\n",
       "        vertical-align: top;\n",
       "    }\n",
       "\n",
       "    .dataframe thead th {\n",
       "        text-align: right;\n",
       "    }\n",
       "</style>\n",
       "<table border=\"1\" class=\"dataframe\">\n",
       "  <thead>\n",
       "    <tr style=\"text-align: right;\">\n",
       "      <th></th>\n",
       "      <th>offnet_mou_8</th>\n",
       "      <th>offnet_mou_6</th>\n",
       "      <th>offnet_mou_7</th>\n",
       "      <th>vol_3g_mb_6</th>\n",
       "      <th>vol_2g_mb_8</th>\n",
       "      <th>vol_2g_mb_7</th>\n",
       "      <th>vol_2g_mb_6</th>\n",
       "      <th>vol_3g_mb_8</th>\n",
       "      <th>vol_3g_mb_7</th>\n",
       "      <th>total_rech_amt_6</th>\n",
       "      <th>total_rech_amt_7</th>\n",
       "      <th>total_og_mou_8</th>\n",
       "      <th>total_og_mou_7</th>\n",
       "      <th>total_og_mou_6</th>\n",
       "      <th>total_rech_amt_8</th>\n",
       "      <th>aon</th>\n",
       "    </tr>\n",
       "  </thead>\n",
       "  <tbody>\n",
       "    <tr>\n",
       "      <th>count</th>\n",
       "      <td>55999.000000</td>\n",
       "      <td>55999.000000</td>\n",
       "      <td>55999.000000</td>\n",
       "      <td>55999.000000</td>\n",
       "      <td>55999.000000</td>\n",
       "      <td>55999.000000</td>\n",
       "      <td>55999.000000</td>\n",
       "      <td>55999.000000</td>\n",
       "      <td>55999.000000</td>\n",
       "      <td>55999.000000</td>\n",
       "      <td>55999.000000</td>\n",
       "      <td>55999.000000</td>\n",
       "      <td>55999.000000</td>\n",
       "      <td>55999.000000</td>\n",
       "      <td>55999.000000</td>\n",
       "      <td>55999.000000</td>\n",
       "    </tr>\n",
       "    <tr>\n",
       "      <th>mean</th>\n",
       "      <td>185.457489</td>\n",
       "      <td>189.861482</td>\n",
       "      <td>188.321627</td>\n",
       "      <td>122.232424</td>\n",
       "      <td>50.556140</td>\n",
       "      <td>51.391151</td>\n",
       "      <td>51.477802</td>\n",
       "      <td>134.293864</td>\n",
       "      <td>127.382967</td>\n",
       "      <td>327.262201</td>\n",
       "      <td>321.605975</td>\n",
       "      <td>303.785459</td>\n",
       "      <td>309.376794</td>\n",
       "      <td>305.665171</td>\n",
       "      <td>323.663869</td>\n",
       "      <td>1220.113359</td>\n",
       "    </tr>\n",
       "    <tr>\n",
       "      <th>std</th>\n",
       "      <td>311.899834</td>\n",
       "      <td>308.357539</td>\n",
       "      <td>314.167049</td>\n",
       "      <td>569.871260</td>\n",
       "      <td>216.293251</td>\n",
       "      <td>213.013724</td>\n",
       "      <td>210.381144</td>\n",
       "      <td>556.604139</td>\n",
       "      <td>551.037320</td>\n",
       "      <td>403.381691</td>\n",
       "      <td>414.496243</td>\n",
       "      <td>471.562705</td>\n",
       "      <td>475.289682</td>\n",
       "      <td>462.897385</td>\n",
       "      <td>423.485790</td>\n",
       "      <td>952.585499</td>\n",
       "    </tr>\n",
       "    <tr>\n",
       "      <th>min</th>\n",
       "      <td>0.000000</td>\n",
       "      <td>0.000000</td>\n",
       "      <td>0.000000</td>\n",
       "      <td>0.000000</td>\n",
       "      <td>0.000000</td>\n",
       "      <td>0.000000</td>\n",
       "      <td>0.000000</td>\n",
       "      <td>0.000000</td>\n",
       "      <td>0.000000</td>\n",
       "      <td>0.000000</td>\n",
       "      <td>0.000000</td>\n",
       "      <td>0.000000</td>\n",
       "      <td>0.000000</td>\n",
       "      <td>0.000000</td>\n",
       "      <td>0.000000</td>\n",
       "      <td>180.000000</td>\n",
       "    </tr>\n",
       "    <tr>\n",
       "      <th>25%</th>\n",
       "      <td>23.600000</td>\n",
       "      <td>28.620000</td>\n",
       "      <td>26.540000</td>\n",
       "      <td>0.000000</td>\n",
       "      <td>0.000000</td>\n",
       "      <td>0.000000</td>\n",
       "      <td>0.000000</td>\n",
       "      <td>0.000000</td>\n",
       "      <td>0.000000</td>\n",
       "      <td>110.000000</td>\n",
       "      <td>100.000000</td>\n",
       "      <td>38.710000</td>\n",
       "      <td>42.470000</td>\n",
       "      <td>44.590000</td>\n",
       "      <td>90.000000</td>\n",
       "      <td>468.000000</td>\n",
       "    </tr>\n",
       "    <tr>\n",
       "      <th>50%</th>\n",
       "      <td>82.860000</td>\n",
       "      <td>89.590000</td>\n",
       "      <td>85.340000</td>\n",
       "      <td>0.000000</td>\n",
       "      <td>0.000000</td>\n",
       "      <td>0.000000</td>\n",
       "      <td>0.000000</td>\n",
       "      <td>0.000000</td>\n",
       "      <td>0.000000</td>\n",
       "      <td>229.000000</td>\n",
       "      <td>220.000000</td>\n",
       "      <td>138.590000</td>\n",
       "      <td>141.130000</td>\n",
       "      <td>144.660000</td>\n",
       "      <td>225.000000</td>\n",
       "      <td>866.000000</td>\n",
       "    </tr>\n",
       "    <tr>\n",
       "      <th>75%</th>\n",
       "      <td>215.790000</td>\n",
       "      <td>223.210000</td>\n",
       "      <td>216.750000</td>\n",
       "      <td>0.000000</td>\n",
       "      <td>0.000000</td>\n",
       "      <td>0.000000</td>\n",
       "      <td>0.000000</td>\n",
       "      <td>0.000000</td>\n",
       "      <td>0.000000</td>\n",
       "      <td>437.000000</td>\n",
       "      <td>430.000000</td>\n",
       "      <td>369.340000</td>\n",
       "      <td>378.150000</td>\n",
       "      <td>373.000000</td>\n",
       "      <td>436.000000</td>\n",
       "      <td>1809.000000</td>\n",
       "    </tr>\n",
       "    <tr>\n",
       "      <th>max</th>\n",
       "      <td>7857.780000</td>\n",
       "      <td>8362.360000</td>\n",
       "      <td>6740.080000</td>\n",
       "      <td>45735.400000</td>\n",
       "      <td>11117.610000</td>\n",
       "      <td>7873.550000</td>\n",
       "      <td>10285.900000</td>\n",
       "      <td>30036.060000</td>\n",
       "      <td>28144.120000</td>\n",
       "      <td>35190.000000</td>\n",
       "      <td>40335.000000</td>\n",
       "      <td>10882.860000</td>\n",
       "      <td>8285.640000</td>\n",
       "      <td>8488.360000</td>\n",
       "      <td>45320.000000</td>\n",
       "      <td>4337.000000</td>\n",
       "    </tr>\n",
       "  </tbody>\n",
       "</table>\n",
       "</div>"
      ],
      "text/plain": [
       "       offnet_mou_8  offnet_mou_6  offnet_mou_7   vol_3g_mb_6   vol_2g_mb_8  \\\n",
       "count  55999.000000  55999.000000  55999.000000  55999.000000  55999.000000   \n",
       "mean     185.457489    189.861482    188.321627    122.232424     50.556140   \n",
       "std      311.899834    308.357539    314.167049    569.871260    216.293251   \n",
       "min        0.000000      0.000000      0.000000      0.000000      0.000000   \n",
       "25%       23.600000     28.620000     26.540000      0.000000      0.000000   \n",
       "50%       82.860000     89.590000     85.340000      0.000000      0.000000   \n",
       "75%      215.790000    223.210000    216.750000      0.000000      0.000000   \n",
       "max     7857.780000   8362.360000   6740.080000  45735.400000  11117.610000   \n",
       "\n",
       "        vol_2g_mb_7   vol_2g_mb_6   vol_3g_mb_8   vol_3g_mb_7  \\\n",
       "count  55999.000000  55999.000000  55999.000000  55999.000000   \n",
       "mean      51.391151     51.477802    134.293864    127.382967   \n",
       "std      213.013724    210.381144    556.604139    551.037320   \n",
       "min        0.000000      0.000000      0.000000      0.000000   \n",
       "25%        0.000000      0.000000      0.000000      0.000000   \n",
       "50%        0.000000      0.000000      0.000000      0.000000   \n",
       "75%        0.000000      0.000000      0.000000      0.000000   \n",
       "max     7873.550000  10285.900000  30036.060000  28144.120000   \n",
       "\n",
       "       total_rech_amt_6  total_rech_amt_7  total_og_mou_8  total_og_mou_7  \\\n",
       "count      55999.000000      55999.000000    55999.000000    55999.000000   \n",
       "mean         327.262201        321.605975      303.785459      309.376794   \n",
       "std          403.381691        414.496243      471.562705      475.289682   \n",
       "min            0.000000          0.000000        0.000000        0.000000   \n",
       "25%          110.000000        100.000000       38.710000       42.470000   \n",
       "50%          229.000000        220.000000      138.590000      141.130000   \n",
       "75%          437.000000        430.000000      369.340000      378.150000   \n",
       "max        35190.000000      40335.000000    10882.860000     8285.640000   \n",
       "\n",
       "       total_og_mou_6  total_rech_amt_8           aon  \n",
       "count    55999.000000      55999.000000  55999.000000  \n",
       "mean       305.665171        323.663869   1220.113359  \n",
       "std        462.897385        423.485790    952.585499  \n",
       "min          0.000000          0.000000    180.000000  \n",
       "25%         44.590000         90.000000    468.000000  \n",
       "50%        144.660000        225.000000    866.000000  \n",
       "75%        373.000000        436.000000   1809.000000  \n",
       "max       8488.360000      45320.000000   4337.000000  "
      ]
     },
     "execution_count": 17,
     "metadata": {},
     "output_type": "execute_result"
    }
   ],
   "source": [
    "X_train_filtered.describe()"
   ]
  },
  {
   "cell_type": "code",
   "execution_count": 18,
   "id": "0fcb99c9",
   "metadata": {
    "execution": {
     "iopub.execute_input": "2022-05-24T08:46:02.193813Z",
     "iopub.status.busy": "2022-05-24T08:46:02.193553Z",
     "iopub.status.idle": "2022-05-24T08:46:03.024787Z",
     "shell.execute_reply": "2022-05-24T08:46:03.024021Z"
    },
    "papermill": {
     "duration": 0.906901,
     "end_time": "2022-05-24T08:46:03.026790",
     "exception": false,
     "start_time": "2022-05-24T08:46:02.119889",
     "status": "completed"
    },
    "tags": []
   },
   "outputs": [
    {
     "data": {
      "text/plain": [
       "<AxesSubplot:>"
      ]
     },
     "execution_count": 18,
     "metadata": {},
     "output_type": "execute_result"
    },
    {
     "data": {
      "image/png": "[encoded data removed]",
      "text/plain": [
       "<Figure size 1800x720 with 3 Axes>"
      ]
     },
     "metadata": {
      "needs_background": "light"
     },
     "output_type": "display_data"
    }
   ],
   "source": [
    "msno.bar(X_train_filtered)"
   ]
  },
  {
   "cell_type": "markdown",
   "id": "d9c2fda0",
   "metadata": {
    "papermill": {
     "duration": 0.077917,
     "end_time": "2022-05-24T08:46:03.426070",
     "exception": false,
     "start_time": "2022-05-24T08:46:03.348153",
     "status": "completed"
    },
    "tags": []
   },
   "source": [
    "# 4. Exploratory Data Analysis & Preprocessing\n",
    "\n",
    "Lets start by analysing the univariate distributions of each feature."
   ]
  },
  {
   "cell_type": "code",
   "execution_count": 19,
   "id": "80293235",
   "metadata": {
    "execution": {
     "iopub.execute_input": "2022-05-24T08:46:03.587144Z",
     "iopub.status.busy": "2022-05-24T08:46:03.586657Z",
     "iopub.status.idle": "2022-05-24T08:46:04.199840Z",
     "shell.execute_reply": "2022-05-24T08:46:04.199031Z"
    },
    "papermill": {
     "duration": 0.698364,
     "end_time": "2022-05-24T08:46:04.201944",
     "exception": false,
     "start_time": "2022-05-24T08:46:03.503580",
     "status": "completed"
    },
    "tags": []
   },
   "outputs": [
    {
     "data": {
      "text/plain": [
       "<AxesSubplot:>"
      ]
     },
     "execution_count": 19,
     "metadata": {},
     "output_type": "execute_result"
    },
    {
     "data": {
      "image/png": "[encoded data removed]",
      "text/plain": [
       "<Figure size 1080x576 with 1 Axes>"
      ]
     },
     "metadata": {
      "needs_background": "light"
     },
     "output_type": "display_data"
    }
   ],
   "source": [
    "plt.figure(figsize=(15,8))\n",
    "plt.xticks(rotation=45)\n",
    "sns.boxplot(data = X_train_filtered)"
   ]
  },
  {
   "cell_type": "markdown",
   "id": "4b136448",
   "metadata": {
    "papermill": {
     "duration": 0.077936,
     "end_time": "2022-05-24T08:46:04.358511",
     "exception": false,
     "start_time": "2022-05-24T08:46:04.280575",
     "status": "completed"
    },
    "tags": []
   },
   "source": [
    "### 4.1 Handling outliers\n",
    "\n",
    "The box plots of these features show there a lot of outliers. These can be capped with k-sigma method."
   ]
  },
  {
   "cell_type": "code",
   "execution_count": 20,
   "id": "1f176c4f",
   "metadata": {
    "execution": {
     "iopub.execute_input": "2022-05-24T08:46:04.516605Z",
     "iopub.status.busy": "2022-05-24T08:46:04.515864Z",
     "iopub.status.idle": "2022-05-24T08:46:04.520339Z",
     "shell.execute_reply": "2022-05-24T08:46:04.519852Z"
    },
    "papermill": {
     "duration": 0.085093,
     "end_time": "2022-05-24T08:46:04.521913",
     "exception": false,
     "start_time": "2022-05-24T08:46:04.436820",
     "status": "completed"
    },
    "tags": []
   },
   "outputs": [],
   "source": [
    "def cap_outliers(array, k=3):\n",
    "    upper_limit = array.mean() + k*array.std()\n",
    "    lower_limit = array.mean() - k*array.std()\n",
    "    array[array<lower_limit] = lower_limit\n",
    "    array[array>upper_limit] = upper_limit\n",
    "    return array"
   ]
  },
  {
   "cell_type": "code",
   "execution_count": 21,
   "id": "824cf9c3",
   "metadata": {
    "execution": {
     "iopub.execute_input": "2022-05-24T08:46:04.679638Z",
     "iopub.status.busy": "2022-05-24T08:46:04.678783Z",
     "iopub.status.idle": "2022-05-24T08:46:05.372252Z",
     "shell.execute_reply": "2022-05-24T08:46:05.371363Z"
    },
    "papermill": {
     "duration": 0.773634,
     "end_time": "2022-05-24T08:46:05.374394",
     "exception": false,
     "start_time": "2022-05-24T08:46:04.600760",
     "status": "completed"
    },
    "tags": []
   },
   "outputs": [
    {
     "data": {
      "text/plain": [
       "<AxesSubplot:>"
      ]
     },
     "execution_count": 21,
     "metadata": {},
     "output_type": "execute_result"
    },
    {
     "data": {
      "image/png": "[encoded data removed]",
      "text/plain": [
       "<Figure size 1080x576 with 1 Axes>"
      ]
     },
     "metadata": {
      "needs_background": "light"
     },
     "output_type": "display_data"
    }
   ],
   "source": [
    "X_train_filtered1 = X_train_filtered.apply(cap_outliers, axis=0)\n",
    "\n",
    "plt.figure(figsize=(15,8))\n",
    "plt.xticks(rotation=45)\n",
    "sns.boxplot(data = X_train_filtered1)"
   ]
  },
  {
   "cell_type": "markdown",
   "id": "a93c957c",
   "metadata": {
    "papermill": {
     "duration": 0.082075,
     "end_time": "2022-05-24T08:46:05.537123",
     "exception": false,
     "start_time": "2022-05-24T08:46:05.455048",
     "status": "completed"
    },
    "tags": []
   },
   "source": [
    "### 4.2 Feature scaling\n",
    "\n",
    "Lets also scale the features by scaling them with Standard scaler."
   ]
  },
  {
   "cell_type": "code",
   "execution_count": 22,
   "id": "2d9a551f",
   "metadata": {
    "execution": {
     "iopub.execute_input": "2022-05-24T08:46:05.696811Z",
     "iopub.status.busy": "2022-05-24T08:46:05.696317Z",
     "iopub.status.idle": "2022-05-24T08:46:05.713113Z",
     "shell.execute_reply": "2022-05-24T08:46:05.712437Z"
    },
    "papermill": {
     "duration": 0.098726,
     "end_time": "2022-05-24T08:46:05.715046",
     "exception": false,
     "start_time": "2022-05-24T08:46:05.616320",
     "status": "completed"
    },
    "tags": []
   },
   "outputs": [],
   "source": [
    "scale = StandardScaler()\n",
    "X_train_filtered2 = scale.fit_transform(X_train_filtered1)"
   ]
  },
  {
   "cell_type": "code",
   "execution_count": 23,
   "id": "167346b4",
   "metadata": {
    "execution": {
     "iopub.execute_input": "2022-05-24T08:46:05.874770Z",
     "iopub.status.busy": "2022-05-24T08:46:05.874046Z",
     "iopub.status.idle": "2022-05-24T08:46:06.477538Z",
     "shell.execute_reply": "2022-05-24T08:46:06.476761Z"
    },
    "papermill": {
     "duration": 0.685313,
     "end_time": "2022-05-24T08:46:06.480124",
     "exception": false,
     "start_time": "2022-05-24T08:46:05.794811",
     "status": "completed"
    },
    "tags": []
   },
   "outputs": [
    {
     "data": {
      "text/plain": [
       "<AxesSubplot:>"
      ]
     },
     "execution_count": 23,
     "metadata": {},
     "output_type": "execute_result"
    },
    {
     "data": {
      "image/png": "[encoded data removed]",
      "text/plain": [
       "<Figure size 1080x576 with 1 Axes>"
      ]
     },
     "metadata": {
      "needs_background": "light"
     },
     "output_type": "display_data"
    }
   ],
   "source": [
    "plt.figure(figsize=(15,8))\n",
    "plt.xticks(rotation=45)\n",
    "sns.boxplot(data = pd.DataFrame(X_train_filtered2, columns=new_vars))"
   ]
  },
  {
   "cell_type": "markdown",
   "id": "23e89aac",
   "metadata": {
    "papermill": {
     "duration": 0.080947,
     "end_time": "2022-05-24T08:46:06.646926",
     "exception": false,
     "start_time": "2022-05-24T08:46:06.565979",
     "status": "completed"
    },
    "tags": []
   },
   "source": [
    "Lets also plot the correlations for each feature for bivariate analysis."
   ]
  },
  {
   "cell_type": "code",
   "execution_count": 24,
   "id": "e2283522",
   "metadata": {
    "execution": {
     "iopub.execute_input": "2022-05-24T08:46:06.812044Z",
     "iopub.status.busy": "2022-05-24T08:46:06.811514Z",
     "iopub.status.idle": "2022-05-24T08:46:07.244310Z",
     "shell.execute_reply": "2022-05-24T08:46:07.243605Z"
    },
    "papermill": {
     "duration": 0.518564,
     "end_time": "2022-05-24T08:46:07.246252",
     "exception": false,
     "start_time": "2022-05-24T08:46:06.727688",
     "status": "completed"
    },
    "tags": []
   },
   "outputs": [
    {
     "data": {
      "text/plain": [
       "<AxesSubplot:>"
      ]
     },
     "execution_count": 24,
     "metadata": {},
     "output_type": "execute_result"
    },
    {
     "data": {
      "image/png": "[encoded data removed]",
      "text/plain": [
       "<Figure size 720x576 with 2 Axes>"
      ]
     },
     "metadata": {
      "needs_background": "light"
     },
     "output_type": "display_data"
    }
   ],
   "source": [
    "plt.figure(figsize=(10,8))\n",
    "sns.heatmap(pd.DataFrame(X_train_filtered2, columns=new_vars).corr())"
   ]
  },
  {
   "cell_type": "code",
   "execution_count": 25,
   "id": "16fb61af",
   "metadata": {
    "execution": {
     "iopub.execute_input": "2022-05-24T08:46:07.413713Z",
     "iopub.status.busy": "2022-05-24T08:46:07.413446Z",
     "iopub.status.idle": "2022-05-24T08:46:07.618818Z",
     "shell.execute_reply": "2022-05-24T08:46:07.618056Z"
    },
    "papermill": {
     "duration": 0.291101,
     "end_time": "2022-05-24T08:46:07.620964",
     "exception": false,
     "start_time": "2022-05-24T08:46:07.329863",
     "status": "completed"
    },
    "tags": []
   },
   "outputs": [
    {
     "data": {
      "text/plain": [
       "<AxesSubplot:xlabel='churn_probability', ylabel='Count'>"
      ]
     },
     "execution_count": 25,
     "metadata": {},
     "output_type": "execute_result"
    },
    {
     "data": {
      "image/png": "[encoded data removed]",
      "text/plain": [
       "<Figure size 432x288 with 1 Axes>"
      ]
     },
     "metadata": {
      "needs_background": "light"
     },
     "output_type": "display_data"
    }
   ],
   "source": [
    "#Distribution for the churn probability\n",
    "sns.histplot(y_train)"
   ]
  },
  {
   "cell_type": "markdown",
   "id": "7ce0c932",
   "metadata": {
    "papermill": {
     "duration": 0.08539,
     "end_time": "2022-05-24T08:46:07.791658",
     "exception": false,
     "start_time": "2022-05-24T08:46:07.706268",
     "status": "completed"
    },
    "tags": []
   },
   "source": [
    "# 5. Feature engineering and selection\n",
    "\n",
    "Let's understand feature importances for raw features as well as components to decide top features for modelling."
   ]
  },
  {
   "cell_type": "code",
   "execution_count": 26,
   "id": "a4e30f3a",
   "metadata": {
    "execution": {
     "iopub.execute_input": "2022-05-24T08:46:07.963351Z",
     "iopub.status.busy": "2022-05-24T08:46:07.962688Z",
     "iopub.status.idle": "2022-05-24T08:46:14.537334Z",
     "shell.execute_reply": "2022-05-24T08:46:14.536500Z"
    },
    "papermill": {
     "duration": 6.663461,
     "end_time": "2022-05-24T08:46:14.539302",
     "exception": false,
     "start_time": "2022-05-24T08:46:07.875841",
     "status": "completed"
    },
    "tags": []
   },
   "outputs": [
    {
     "data": {
      "text/plain": [
       "RandomForestClassifier(n_jobs=-1)"
      ]
     },
     "execution_count": 26,
     "metadata": {},
     "output_type": "execute_result"
    }
   ],
   "source": [
    "rf = RandomForestClassifier(n_estimators=100, n_jobs=-1)\n",
    "rf.fit(X_train_filtered2, y_train)"
   ]
  },
  {
   "cell_type": "code",
   "execution_count": 27,
   "id": "56fe1e5a",
   "metadata": {
    "execution": {
     "iopub.execute_input": "2022-05-24T08:46:14.710581Z",
     "iopub.status.busy": "2022-05-24T08:46:14.710280Z",
     "iopub.status.idle": "2022-05-24T08:46:14.817551Z",
     "shell.execute_reply": "2022-05-24T08:46:14.816940Z"
    },
    "papermill": {
     "duration": 0.194118,
     "end_time": "2022-05-24T08:46:14.819697",
     "exception": false,
     "start_time": "2022-05-24T08:46:14.625579",
     "status": "completed"
    },
    "tags": []
   },
   "outputs": [],
   "source": [
    "feature_importances = pd.DataFrame({'col':new_vars, 'importance':rf.feature_importances_})"
   ]
  },
  {
   "cell_type": "code",
   "execution_count": 28,
   "id": "2d07be6b",
   "metadata": {
    "execution": {
     "iopub.execute_input": "2022-05-24T08:46:14.991873Z",
     "iopub.status.busy": "2022-05-24T08:46:14.991332Z",
     "iopub.status.idle": "2022-05-24T08:46:15.198239Z",
     "shell.execute_reply": "2022-05-24T08:46:15.197736Z"
    },
    "papermill": {
     "duration": 0.295093,
     "end_time": "2022-05-24T08:46:15.199925",
     "exception": false,
     "start_time": "2022-05-24T08:46:14.904832",
     "status": "completed"
    },
    "tags": []
   },
   "outputs": [
    {
     "data": {
      "text/plain": [
       "<BarContainer object of 16 artists>"
      ]
     },
     "execution_count": 28,
     "metadata": {},
     "output_type": "execute_result"
    },
    {
     "data": {
      "image/png": "[encoded data removed]",
      "text/plain": [
       "<Figure size 1080x576 with 1 Axes>"
      ]
     },
     "metadata": {
      "needs_background": "light"
     },
     "output_type": "display_data"
    }
   ],
   "source": [
    "plt.figure(figsize=(15,8))\n",
    "plt.xticks(rotation=45)\n",
    "plt.bar(feature_importances['col'], feature_importances['importance'])"
   ]
  },
  {
   "cell_type": "markdown",
   "id": "83957f35",
   "metadata": {
    "papermill": {
     "duration": 0.084654,
     "end_time": "2022-05-24T08:46:15.369772",
     "exception": false,
     "start_time": "2022-05-24T08:46:15.285118",
     "status": "completed"
    },
    "tags": []
   },
   "source": [
    "Way of finding good features would be to project them into a lower dimensional space using PCA. PCA creates components which are a linear combination of the features. This then allows you to select components which explain the highest amount of variance."
   ]
  },
  {
   "cell_type": "code",
   "execution_count": 29,
   "id": "a527dba2",
   "metadata": {
    "execution": {
     "iopub.execute_input": "2022-05-24T08:46:15.542344Z",
     "iopub.status.busy": "2022-05-24T08:46:15.541489Z",
     "iopub.status.idle": "2022-05-24T08:46:17.243777Z",
     "shell.execute_reply": "2022-05-24T08:46:17.243164Z"
    },
    "papermill": {
     "duration": 1.791722,
     "end_time": "2022-05-24T08:46:17.247020",
     "exception": false,
     "start_time": "2022-05-24T08:46:15.455298",
     "status": "completed"
    },
    "tags": []
   },
   "outputs": [
    {
     "data": {
      "text/plain": [
       "<AxesSubplot:>"
      ]
     },
     "execution_count": 29,
     "metadata": {},
     "output_type": "execute_result"
    },
    {
     "data": {
      "image/png": "[encoded data removed]",
      "text/plain": [
       "<Figure size 432x288 with 1 Axes>"
      ]
     },
     "metadata": {
      "needs_background": "light"
     },
     "output_type": "display_data"
    }
   ],
   "source": [
    "pca = PCA()\n",
    "pca_components = pca.fit_transform(X_train_filtered2)\n",
    "sns.scatterplot(x=pca_components[:,0], y=pca_components[:,1], hue=y_train)"
   ]
  },
  {
   "cell_type": "code",
   "execution_count": 30,
   "id": "883b3c3f",
   "metadata": {
    "execution": {
     "iopub.execute_input": "2022-05-24T08:46:17.430107Z",
     "iopub.status.busy": "2022-05-24T08:46:17.429690Z",
     "iopub.status.idle": "2022-05-24T08:46:19.001689Z",
     "shell.execute_reply": "2022-05-24T08:46:19.000907Z"
    },
    "papermill": {
     "duration": 1.667342,
     "end_time": "2022-05-24T08:46:19.004559",
     "exception": false,
     "start_time": "2022-05-24T08:46:17.337217",
     "status": "completed"
    },
    "tags": []
   },
   "outputs": [
    {
     "data": {
      "text/plain": [
       "<AxesSubplot:>"
      ]
     },
     "execution_count": 30,
     "metadata": {},
     "output_type": "execute_result"
    },
    {
     "data": {
      "image/png": "[encoded data removed]",
      "text/plain": [
       "<Figure size 432x288 with 1 Axes>"
      ]
     },
     "metadata": {
      "needs_background": "light"
     },
     "output_type": "display_data"
    }
   ],
   "source": [
    "sns.scatterplot(x=pca_components[:,1], y=pca_components[:,2], hue=y_train)"
   ]
  },
  {
   "cell_type": "markdown",
   "id": "2cfd3725",
   "metadata": {
    "papermill": {
     "duration": 0.091136,
     "end_time": "2022-05-24T08:46:19.189553",
     "exception": false,
     "start_time": "2022-05-24T08:46:19.098417",
     "status": "completed"
    },
    "tags": []
   },
   "source": [
    "Let's also check which of the components have high feature importances towards the end goal of churn prediction."
   ]
  },
  {
   "cell_type": "code",
   "execution_count": 31,
   "id": "4e6d2c6e",
   "metadata": {
    "execution": {
     "iopub.execute_input": "2022-05-24T08:46:19.380422Z",
     "iopub.status.busy": "2022-05-24T08:46:19.380192Z",
     "iopub.status.idle": "2022-05-24T08:46:30.898158Z",
     "shell.execute_reply": "2022-05-24T08:46:30.897382Z"
    },
    "papermill": {
     "duration": 11.616056,
     "end_time": "2022-05-24T08:46:30.900073",
     "exception": false,
     "start_time": "2022-05-24T08:46:19.284017",
     "status": "completed"
    },
    "tags": []
   },
   "outputs": [
    {
     "data": {
      "text/plain": [
       "<BarContainer object of 16 artists>"
      ]
     },
     "execution_count": 31,
     "metadata": {},
     "output_type": "execute_result"
    },
    {
     "data": {
      "image/png": "[encoded data removed]",
      "text/plain": [
       "<Figure size 1080x576 with 1 Axes>"
      ]
     },
     "metadata": {
      "needs_background": "light"
     },
     "output_type": "display_data"
    }
   ],
   "source": [
    "rf = RandomForestClassifier(n_estimators=100, n_jobs=-1)\n",
    "rf.fit(pca_components, y_train)\n",
    "\n",
    "feature_importances = pd.DataFrame({'col':['component_'+str(i) for i in range(16)], \n",
    "                                    'importance':rf.feature_importances_})\n",
    "\n",
    "plt.figure(figsize=(15,8))\n",
    "plt.xticks(rotation=45)\n",
    "plt.bar(feature_importances['col'], feature_importances['importance'])"
   ]
  },
  {
   "cell_type": "markdown",
   "id": "af4f2703",
   "metadata": {
    "papermill": {
     "duration": 0.092738,
     "end_time": "2022-05-24T08:46:31.089651",
     "exception": false,
     "start_time": "2022-05-24T08:46:30.996913",
     "status": "completed"
    },
    "tags": []
   },
   "source": [
    "# 6. Model building\n",
    "\n",
    "Let's build a quick model with logistic regression and the first 2 PCA components."
   ]
  },
  {
   "cell_type": "code",
   "execution_count": 32,
   "id": "a6503df1",
   "metadata": {
    "execution": {
     "iopub.execute_input": "2022-05-24T08:46:31.277453Z",
     "iopub.status.busy": "2022-05-24T08:46:31.276816Z",
     "iopub.status.idle": "2022-05-24T08:46:31.377767Z",
     "shell.execute_reply": "2022-05-24T08:46:31.377225Z"
    },
    "papermill": {
     "duration": 0.196182,
     "end_time": "2022-05-24T08:46:31.379346",
     "exception": false,
     "start_time": "2022-05-24T08:46:31.183164",
     "status": "completed"
    },
    "tags": []
   },
   "outputs": [
    {
     "data": {
      "text/plain": [
       "LogisticRegression(max_iter=1000, solver='sag', tol=0.001)"
      ]
     },
     "execution_count": 32,
     "metadata": {},
     "output_type": "execute_result"
    }
   ],
   "source": [
    "lr = LogisticRegression(max_iter=1000, tol=0.001, solver='sag')\n",
    "lr.fit(pca_components[:,:2], y_train)"
   ]
  },
  {
   "cell_type": "code",
   "execution_count": 33,
   "id": "2013fabd",
   "metadata": {
    "execution": {
     "iopub.execute_input": "2022-05-24T08:46:31.570412Z",
     "iopub.status.busy": "2022-05-24T08:46:31.569705Z",
     "iopub.status.idle": "2022-05-24T08:46:31.585718Z",
     "shell.execute_reply": "2022-05-24T08:46:31.585110Z"
    },
    "papermill": {
     "duration": 0.114982,
     "end_time": "2022-05-24T08:46:31.588264",
     "exception": false,
     "start_time": "2022-05-24T08:46:31.473282",
     "status": "completed"
    },
    "tags": []
   },
   "outputs": [
    {
     "data": {
      "text/plain": [
       "0.8984446150824121"
      ]
     },
     "execution_count": 33,
     "metadata": {},
     "output_type": "execute_result"
    }
   ],
   "source": [
    "lr.score(pca_components[:,:2], y_train)"
   ]
  },
  {
   "cell_type": "markdown",
   "id": "d75c1c40",
   "metadata": {
    "papermill": {
     "duration": 0.095799,
     "end_time": "2022-05-24T08:46:31.827077",
     "exception": false,
     "start_time": "2022-05-24T08:46:31.731278",
     "status": "completed"
    },
    "tags": []
   },
   "source": [
    "The model has 89.8% accuracy, but let's build a pipeline to fit and score the model faster.\n",
    "\n",
    "The steps of this pipeline would be the following -\n",
    "1. Imputation\n",
    "2. Scaling\n",
    "3. PCA\n",
    "4. Classification model"
   ]
  },
  {
   "cell_type": "code",
   "execution_count": 34,
   "id": "63f1d52a",
   "metadata": {
    "execution": {
     "iopub.execute_input": "2022-05-24T08:46:32.020631Z",
     "iopub.status.busy": "2022-05-24T08:46:32.019744Z",
     "iopub.status.idle": "2022-05-24T08:46:32.024840Z",
     "shell.execute_reply": "2022-05-24T08:46:32.024326Z"
    },
    "papermill": {
     "duration": 0.106412,
     "end_time": "2022-05-24T08:46:32.026463",
     "exception": false,
     "start_time": "2022-05-24T08:46:31.920051",
     "status": "completed"
    },
    "tags": []
   },
   "outputs": [],
   "source": [
    "imp = SimpleImputer(strategy='constant', fill_value=0)\n",
    "scale = StandardScaler()\n",
    "pca = PCA(n_components=10)\n",
    "lr = LogisticRegression(max_iter=1000, tol=0.001)"
   ]
  },
  {
   "cell_type": "code",
   "execution_count": 35,
   "id": "676cf315",
   "metadata": {
    "execution": {
     "iopub.execute_input": "2022-05-24T08:46:32.221224Z",
     "iopub.status.busy": "2022-05-24T08:46:32.220758Z",
     "iopub.status.idle": "2022-05-24T08:46:32.224541Z",
     "shell.execute_reply": "2022-05-24T08:46:32.224054Z"
    },
    "papermill": {
     "duration": 0.100076,
     "end_time": "2022-05-24T08:46:32.226140",
     "exception": false,
     "start_time": "2022-05-24T08:46:32.126064",
     "status": "completed"
    },
    "tags": []
   },
   "outputs": [],
   "source": [
    "pipe = Pipeline(steps = [('imputation',imp),\n",
    "                         ('scaling',scale),\n",
    "                         ('pca',pca),\n",
    "                         ('model',lr)])"
   ]
  },
  {
   "cell_type": "code",
   "execution_count": 36,
   "id": "17c72530",
   "metadata": {
    "execution": {
     "iopub.execute_input": "2022-05-24T08:46:32.413811Z",
     "iopub.status.busy": "2022-05-24T08:46:32.413438Z",
     "iopub.status.idle": "2022-05-24T08:46:32.806742Z",
     "shell.execute_reply": "2022-05-24T08:46:32.805765Z"
    },
    "papermill": {
     "duration": 0.490309,
     "end_time": "2022-05-24T08:46:32.809802",
     "exception": false,
     "start_time": "2022-05-24T08:46:32.319493",
     "status": "completed"
    },
    "tags": []
   },
   "outputs": [
    {
     "data": {
      "text/plain": [
       "Pipeline(steps=[('imputation',\n",
       "                 SimpleImputer(fill_value=0, strategy='constant')),\n",
       "                ('scaling', StandardScaler()), ('pca', PCA(n_components=10)),\n",
       "                ('model', LogisticRegression(max_iter=1000, tol=0.001))])"
      ]
     },
     "execution_count": 36,
     "metadata": {},
     "output_type": "execute_result"
    }
   ],
   "source": [
    "pipe.fit(X_train[new_vars], y_train)"
   ]
  },
  {
   "cell_type": "code",
   "execution_count": 37,
   "id": "ae9fa42c",
   "metadata": {
    "execution": {
     "iopub.execute_input": "2022-05-24T08:46:33.056224Z",
     "iopub.status.busy": "2022-05-24T08:46:33.055461Z",
     "iopub.status.idle": "2022-05-24T08:46:33.089479Z",
     "shell.execute_reply": "2022-05-24T08:46:33.088622Z"
    },
    "papermill": {
     "duration": 0.135699,
     "end_time": "2022-05-24T08:46:33.094033",
     "exception": false,
     "start_time": "2022-05-24T08:46:32.958334",
     "status": "completed"
    },
    "tags": []
   },
   "outputs": [
    {
     "name": "stdout",
     "output_type": "stream",
     "text": [
      "Training accuracy: 0.9001410739477491\n"
     ]
    }
   ],
   "source": [
    "train_score = pipe.score(X_train[new_vars], y_train)\n",
    "print(\"Training accuracy:\", train_score)"
   ]
  },
  {
   "cell_type": "code",
   "execution_count": 38,
   "id": "9697c259",
   "metadata": {
    "execution": {
     "iopub.execute_input": "2022-05-24T08:46:33.331344Z",
     "iopub.status.busy": "2022-05-24T08:46:33.331115Z",
     "iopub.status.idle": "2022-05-24T08:46:33.350047Z",
     "shell.execute_reply": "2022-05-24T08:46:33.348988Z"
    },
    "papermill": {
     "duration": 0.116225,
     "end_time": "2022-05-24T08:46:33.352802",
     "exception": false,
     "start_time": "2022-05-24T08:46:33.236577",
     "status": "completed"
    },
    "tags": []
   },
   "outputs": [
    {
     "name": "stdout",
     "output_type": "stream",
     "text": [
      "Test accuracy: 0.8991428571428571\n"
     ]
    }
   ],
   "source": [
    "test_score = pipe.score(X_test[new_vars], y_test)\n",
    "print(\"Test accuracy:\", test_score)"
   ]
  },
  {
   "cell_type": "markdown",
   "id": "7ec6f719",
   "metadata": {
    "papermill": {
     "duration": 0.09421,
     "end_time": "2022-05-24T08:46:33.591590",
     "exception": false,
     "start_time": "2022-05-24T08:46:33.497380",
     "status": "completed"
    },
    "tags": []
   },
   "source": [
    "Let's make a confusion matrix to analyze how each class is being predicted by the model."
   ]
  },
  {
   "cell_type": "code",
   "execution_count": 39,
   "id": "49ea9903",
   "metadata": {
    "execution": {
     "iopub.execute_input": "2022-05-24T08:46:33.783097Z",
     "iopub.status.busy": "2022-05-24T08:46:33.782807Z",
     "iopub.status.idle": "2022-05-24T08:46:33.825784Z",
     "shell.execute_reply": "2022-05-24T08:46:33.824849Z"
    },
    "papermill": {
     "duration": 0.142949,
     "end_time": "2022-05-24T08:46:33.828631",
     "exception": false,
     "start_time": "2022-05-24T08:46:33.685682",
     "status": "completed"
    },
    "tags": []
   },
   "outputs": [
    {
     "data": {
      "text/plain": [
       "array([[50038,   274],\n",
       "       [ 5318,   369]], dtype=int64)"
      ]
     },
     "execution_count": 39,
     "metadata": {},
     "output_type": "execute_result"
    }
   ],
   "source": [
    "confusion_matrix(y_train, pipe.predict(X_train[new_vars]))"
   ]
  },
  {
   "cell_type": "code",
   "execution_count": 40,
   "id": "4534fa6a",
   "metadata": {
    "execution": {
     "iopub.execute_input": "2022-05-24T08:46:34.073110Z",
     "iopub.status.busy": "2022-05-24T08:46:34.072578Z",
     "iopub.status.idle": "2022-05-24T08:46:34.090222Z",
     "shell.execute_reply": "2022-05-24T08:46:34.089306Z"
    },
    "papermill": {
     "duration": 0.123057,
     "end_time": "2022-05-24T08:46:34.092848",
     "exception": false,
     "start_time": "2022-05-24T08:46:33.969791",
     "status": "completed"
    },
    "tags": []
   },
   "outputs": [
    {
     "data": {
      "text/plain": [
       "array([[12487,    68],\n",
       "       [ 1344,   101]], dtype=int64)"
      ]
     },
     "execution_count": 40,
     "metadata": {},
     "output_type": "execute_result"
    }
   ],
   "source": [
    "confusion_matrix(y_test, pipe.predict(X_test[new_vars]))"
   ]
  },
  {
   "cell_type": "code",
   "execution_count": 42,
   "id": "839ce458",
   "metadata": {
    "execution": {
     "iopub.execute_input": "2022-05-24T08:46:34.554151Z",
     "iopub.status.busy": "2022-05-24T08:46:34.553887Z",
     "iopub.status.idle": "2022-05-24T08:46:34.577282Z",
     "shell.execute_reply": "2022-05-24T08:46:34.576375Z"
    },
    "papermill": {
     "duration": 0.127755,
     "end_time": "2022-05-24T08:46:34.579994",
     "exception": false,
     "start_time": "2022-05-24T08:46:34.452239",
     "status": "completed"
    },
    "tags": []
   },
   "outputs": [
    {
     "data": {
      "text/plain": [
       "0.5976331360946746"
      ]
     },
     "execution_count": 42,
     "metadata": {},
     "output_type": "execute_result"
    }
   ],
   "source": [
    "precision_score(y_test, pipe.predict(X_test[new_vars]))"
   ]
  },
  {
   "cell_type": "code",
   "execution_count": 43,
   "id": "ff7c56b8",
   "metadata": {
    "execution": {
     "iopub.execute_input": "2022-05-24T08:46:34.825937Z",
     "iopub.status.busy": "2022-05-24T08:46:34.825664Z",
     "iopub.status.idle": "2022-05-24T08:46:34.849380Z",
     "shell.execute_reply": "2022-05-24T08:46:34.848648Z"
    },
    "papermill": {
     "duration": 0.124321,
     "end_time": "2022-05-24T08:46:34.852018",
     "exception": false,
     "start_time": "2022-05-24T08:46:34.727697",
     "status": "completed"
    },
    "tags": []
   },
   "outputs": [
    {
     "data": {
      "text/plain": [
       "0.0698961937716263"
      ]
     },
     "execution_count": 43,
     "metadata": {},
     "output_type": "execute_result"
    }
   ],
   "source": [
    "recall_score(y_test, pipe.predict(X_test[new_vars]))"
   ]
  },
  {
   "cell_type": "markdown",
   "id": "dc7f8cfa",
   "metadata": {
    "papermill": {
     "duration": 0.098675,
     "end_time": "2022-05-24T08:46:35.097778",
     "exception": false,
     "start_time": "2022-05-24T08:46:34.999103",
     "status": "completed"
    },
    "tags": []
   },
   "source": [
    "# 7. Creating submission file"
   ]
  },
  {
   "cell_type": "code",
   "execution_count": 44,
   "id": "7864bf0f",
   "metadata": {
    "execution": {
     "iopub.execute_input": "2022-05-24T08:46:35.714384Z",
     "iopub.status.busy": "2022-05-24T08:46:35.713874Z",
     "iopub.status.idle": "2022-05-24T08:46:35.736201Z",
     "shell.execute_reply": "2022-05-24T08:46:35.735688Z"
    },
    "papermill": {
     "duration": 0.122035,
     "end_time": "2022-05-24T08:46:35.737891",
     "exception": false,
     "start_time": "2022-05-24T08:46:35.615856",
     "status": "completed"
    },
    "tags": []
   },
   "outputs": [
    {
     "data": {
      "text/html": [
       "<div>\n",
       "<style scoped>\n",
       "    .dataframe tbody tr th:only-of-type {\n",
       "        vertical-align: middle;\n",
       "    }\n",
       "\n",
       "    .dataframe tbody tr th {\n",
       "        vertical-align: top;\n",
       "    }\n",
       "\n",
       "    .dataframe thead th {\n",
       "        text-align: right;\n",
       "    }\n",
       "</style>\n",
       "<table border=\"1\" class=\"dataframe\">\n",
       "  <thead>\n",
       "    <tr style=\"text-align: right;\">\n",
       "      <th></th>\n",
       "      <th>id</th>\n",
       "      <th>circle_id</th>\n",
       "      <th>loc_og_t2o_mou</th>\n",
       "      <th>std_og_t2o_mou</th>\n",
       "      <th>loc_ic_t2o_mou</th>\n",
       "      <th>last_date_of_month_6</th>\n",
       "      <th>last_date_of_month_7</th>\n",
       "      <th>last_date_of_month_8</th>\n",
       "      <th>arpu_6</th>\n",
       "      <th>arpu_7</th>\n",
       "      <th>...</th>\n",
       "      <th>sachet_3g_6</th>\n",
       "      <th>sachet_3g_7</th>\n",
       "      <th>sachet_3g_8</th>\n",
       "      <th>fb_user_6</th>\n",
       "      <th>fb_user_7</th>\n",
       "      <th>fb_user_8</th>\n",
       "      <th>aon</th>\n",
       "      <th>aug_vbc_3g</th>\n",
       "      <th>jul_vbc_3g</th>\n",
       "      <th>jun_vbc_3g</th>\n",
       "    </tr>\n",
       "  </thead>\n",
       "  <tbody>\n",
       "    <tr>\n",
       "      <th>0</th>\n",
       "      <td>69999</td>\n",
       "      <td>109</td>\n",
       "      <td>0.0</td>\n",
       "      <td>0.0</td>\n",
       "      <td>0.0</td>\n",
       "      <td>6/30/2014</td>\n",
       "      <td>7/31/2014</td>\n",
       "      <td>8/31/2014</td>\n",
       "      <td>91.882</td>\n",
       "      <td>65.330</td>\n",
       "      <td>...</td>\n",
       "      <td>0</td>\n",
       "      <td>0</td>\n",
       "      <td>0</td>\n",
       "      <td>NaN</td>\n",
       "      <td>NaN</td>\n",
       "      <td>NaN</td>\n",
       "      <td>1692</td>\n",
       "      <td>0.00</td>\n",
       "      <td>0.00</td>\n",
       "      <td>0.00</td>\n",
       "    </tr>\n",
       "    <tr>\n",
       "      <th>1</th>\n",
       "      <td>70000</td>\n",
       "      <td>109</td>\n",
       "      <td>0.0</td>\n",
       "      <td>0.0</td>\n",
       "      <td>0.0</td>\n",
       "      <td>6/30/2014</td>\n",
       "      <td>7/31/2014</td>\n",
       "      <td>8/31/2014</td>\n",
       "      <td>414.168</td>\n",
       "      <td>515.568</td>\n",
       "      <td>...</td>\n",
       "      <td>0</td>\n",
       "      <td>0</td>\n",
       "      <td>0</td>\n",
       "      <td>NaN</td>\n",
       "      <td>NaN</td>\n",
       "      <td>NaN</td>\n",
       "      <td>2533</td>\n",
       "      <td>0.00</td>\n",
       "      <td>0.00</td>\n",
       "      <td>0.00</td>\n",
       "    </tr>\n",
       "    <tr>\n",
       "      <th>2</th>\n",
       "      <td>70001</td>\n",
       "      <td>109</td>\n",
       "      <td>0.0</td>\n",
       "      <td>0.0</td>\n",
       "      <td>0.0</td>\n",
       "      <td>6/30/2014</td>\n",
       "      <td>7/31/2014</td>\n",
       "      <td>8/31/2014</td>\n",
       "      <td>329.844</td>\n",
       "      <td>434.884</td>\n",
       "      <td>...</td>\n",
       "      <td>0</td>\n",
       "      <td>0</td>\n",
       "      <td>0</td>\n",
       "      <td>NaN</td>\n",
       "      <td>NaN</td>\n",
       "      <td>NaN</td>\n",
       "      <td>277</td>\n",
       "      <td>525.61</td>\n",
       "      <td>758.41</td>\n",
       "      <td>241.84</td>\n",
       "    </tr>\n",
       "    <tr>\n",
       "      <th>3</th>\n",
       "      <td>70002</td>\n",
       "      <td>109</td>\n",
       "      <td>0.0</td>\n",
       "      <td>0.0</td>\n",
       "      <td>0.0</td>\n",
       "      <td>6/30/2014</td>\n",
       "      <td>7/31/2014</td>\n",
       "      <td>8/31/2014</td>\n",
       "      <td>43.550</td>\n",
       "      <td>171.390</td>\n",
       "      <td>...</td>\n",
       "      <td>0</td>\n",
       "      <td>0</td>\n",
       "      <td>0</td>\n",
       "      <td>NaN</td>\n",
       "      <td>NaN</td>\n",
       "      <td>NaN</td>\n",
       "      <td>1244</td>\n",
       "      <td>0.00</td>\n",
       "      <td>0.00</td>\n",
       "      <td>0.00</td>\n",
       "    </tr>\n",
       "    <tr>\n",
       "      <th>4</th>\n",
       "      <td>70003</td>\n",
       "      <td>109</td>\n",
       "      <td>0.0</td>\n",
       "      <td>0.0</td>\n",
       "      <td>0.0</td>\n",
       "      <td>6/30/2014</td>\n",
       "      <td>7/31/2014</td>\n",
       "      <td>8/31/2014</td>\n",
       "      <td>306.854</td>\n",
       "      <td>406.289</td>\n",
       "      <td>...</td>\n",
       "      <td>0</td>\n",
       "      <td>0</td>\n",
       "      <td>0</td>\n",
       "      <td>NaN</td>\n",
       "      <td>NaN</td>\n",
       "      <td>NaN</td>\n",
       "      <td>462</td>\n",
       "      <td>0.00</td>\n",
       "      <td>0.00</td>\n",
       "      <td>0.00</td>\n",
       "    </tr>\n",
       "  </tbody>\n",
       "</table>\n",
       "<p>5 rows × 171 columns</p>\n",
       "</div>"
      ],
      "text/plain": [
       "      id  circle_id  loc_og_t2o_mou  std_og_t2o_mou  loc_ic_t2o_mou  \\\n",
       "0  69999        109             0.0             0.0             0.0   \n",
       "1  70000        109             0.0             0.0             0.0   \n",
       "2  70001        109             0.0             0.0             0.0   \n",
       "3  70002        109             0.0             0.0             0.0   \n",
       "4  70003        109             0.0             0.0             0.0   \n",
       "\n",
       "  last_date_of_month_6 last_date_of_month_7 last_date_of_month_8   arpu_6  \\\n",
       "0            6/30/2014            7/31/2014            8/31/2014   91.882   \n",
       "1            6/30/2014            7/31/2014            8/31/2014  414.168   \n",
       "2            6/30/2014            7/31/2014            8/31/2014  329.844   \n",
       "3            6/30/2014            7/31/2014            8/31/2014   43.550   \n",
       "4            6/30/2014            7/31/2014            8/31/2014  306.854   \n",
       "\n",
       "    arpu_7  ...  sachet_3g_6  sachet_3g_7  sachet_3g_8  fb_user_6  fb_user_7  \\\n",
       "0   65.330  ...            0            0            0        NaN        NaN   \n",
       "1  515.568  ...            0            0            0        NaN        NaN   \n",
       "2  434.884  ...            0            0            0        NaN        NaN   \n",
       "3  171.390  ...            0            0            0        NaN        NaN   \n",
       "4  406.289  ...            0            0            0        NaN        NaN   \n",
       "\n",
       "   fb_user_8   aon  aug_vbc_3g  jul_vbc_3g  jun_vbc_3g  \n",
       "0        NaN  1692        0.00        0.00        0.00  \n",
       "1        NaN  2533        0.00        0.00        0.00  \n",
       "2        NaN   277      525.61      758.41      241.84  \n",
       "3        NaN  1244        0.00        0.00        0.00  \n",
       "4        NaN   462        0.00        0.00        0.00  \n",
       "\n",
       "[5 rows x 171 columns]"
      ]
     },
     "execution_count": 44,
     "metadata": {},
     "output_type": "execute_result"
    }
   ],
   "source": [
    "unseen.head()"
   ]
  },
  {
   "cell_type": "markdown",
   "id": "24dbce0b",
   "metadata": {
    "papermill": {
     "duration": 0.099943,
     "end_time": "2022-05-24T08:46:35.935317",
     "exception": false,
     "start_time": "2022-05-24T08:46:35.835374",
     "status": "completed"
    },
    "tags": []
   },
   "source": [
    "Lets first select the columns that we want to work with (or create them, if you have done any feature engineering)"
   ]
  },
  {
   "cell_type": "code",
   "execution_count": 45,
   "id": "376f74ef",
   "metadata": {
    "execution": {
     "iopub.execute_input": "2022-05-24T08:46:36.152620Z",
     "iopub.status.busy": "2022-05-24T08:46:36.152178Z",
     "iopub.status.idle": "2022-05-24T08:46:36.203052Z",
     "shell.execute_reply": "2022-05-24T08:46:36.202497Z"
    },
    "papermill": {
     "duration": 0.164458,
     "end_time": "2022-05-24T08:46:36.204666",
     "exception": false,
     "start_time": "2022-05-24T08:46:36.040208",
     "status": "completed"
    },
    "tags": []
   },
   "outputs": [
    {
     "data": {
      "text/plain": [
       "(30000, 16)"
      ]
     },
     "execution_count": 45,
     "metadata": {},
     "output_type": "execute_result"
    }
   ],
   "source": [
    "submission_data = unseen.set_index('id')[new_vars]\n",
    "submission_data.shape"
   ]
  },
  {
   "cell_type": "markdown",
   "id": "ed5bd2ab",
   "metadata": {
    "papermill": {
     "duration": 0.097352,
     "end_time": "2022-05-24T08:46:36.401664",
     "exception": false,
     "start_time": "2022-05-24T08:46:36.304312",
     "status": "completed"
    },
    "tags": []
   },
   "source": [
    "Next, lets create a new column in the unseen dataset called churn_probability and use the model pipeline to predict the probabilities for this data"
   ]
  },
  {
   "cell_type": "code",
   "execution_count": 46,
   "id": "30926e2b",
   "metadata": {
    "execution": {
     "iopub.execute_input": "2022-05-24T08:46:36.601339Z",
     "iopub.status.busy": "2022-05-24T08:46:36.600892Z",
     "iopub.status.idle": "2022-05-24T08:46:36.637208Z",
     "shell.execute_reply": "2022-05-24T08:46:36.636154Z"
    },
    "papermill": {
     "duration": 0.140554,
     "end_time": "2022-05-24T08:46:36.640138",
     "exception": false,
     "start_time": "2022-05-24T08:46:36.499584",
     "status": "completed"
    },
    "tags": []
   },
   "outputs": [
    {
     "data": {
      "text/html": [
       "<div>\n",
       "<style scoped>\n",
       "    .dataframe tbody tr th:only-of-type {\n",
       "        vertical-align: middle;\n",
       "    }\n",
       "\n",
       "    .dataframe tbody tr th {\n",
       "        vertical-align: top;\n",
       "    }\n",
       "\n",
       "    .dataframe thead th {\n",
       "        text-align: right;\n",
       "    }\n",
       "</style>\n",
       "<table border=\"1\" class=\"dataframe\">\n",
       "  <thead>\n",
       "    <tr style=\"text-align: right;\">\n",
       "      <th></th>\n",
       "      <th>id</th>\n",
       "      <th>churn_probability</th>\n",
       "    </tr>\n",
       "  </thead>\n",
       "  <tbody>\n",
       "    <tr>\n",
       "      <th>0</th>\n",
       "      <td>69999</td>\n",
       "      <td>0</td>\n",
       "    </tr>\n",
       "    <tr>\n",
       "      <th>1</th>\n",
       "      <td>70000</td>\n",
       "      <td>0</td>\n",
       "    </tr>\n",
       "    <tr>\n",
       "      <th>2</th>\n",
       "      <td>70001</td>\n",
       "      <td>0</td>\n",
       "    </tr>\n",
       "    <tr>\n",
       "      <th>3</th>\n",
       "      <td>70002</td>\n",
       "      <td>0</td>\n",
       "    </tr>\n",
       "    <tr>\n",
       "      <th>4</th>\n",
       "      <td>70003</td>\n",
       "      <td>0</td>\n",
       "    </tr>\n",
       "  </tbody>\n",
       "</table>\n",
       "</div>"
      ],
      "text/plain": [
       "      id  churn_probability\n",
       "0  69999                  0\n",
       "1  70000                  0\n",
       "2  70001                  0\n",
       "3  70002                  0\n",
       "4  70003                  0"
      ]
     },
     "execution_count": 46,
     "metadata": {},
     "output_type": "execute_result"
    }
   ],
   "source": [
    "unseen['churn_probability'] = pipe.predict(submission_data)\n",
    "output = unseen[['id','churn_probability']]\n",
    "output.head()"
   ]
  },
  {
   "cell_type": "markdown",
   "id": "c3b0c584",
   "metadata": {
    "papermill": {
     "duration": 0.099349,
     "end_time": "2022-05-24T08:46:36.888450",
     "exception": false,
     "start_time": "2022-05-24T08:46:36.789101",
     "status": "completed"
    },
    "tags": []
   },
   "source": [
    "Finally, lets create a csv file out of this dataset, ensuring to set index=False to avoid an addition column in the csv."
   ]
  },
  {
   "cell_type": "code",
   "execution_count": 49,
   "id": "ce44afde",
   "metadata": {
    "execution": {
     "iopub.execute_input": "2022-05-24T08:46:37.092289Z",
     "iopub.status.busy": "2022-05-24T08:46:37.091583Z",
     "iopub.status.idle": "2022-05-24T08:46:37.142002Z",
     "shell.execute_reply": "2022-05-24T08:46:37.141131Z"
    },
    "papermill": {
     "duration": 0.155849,
     "end_time": "2022-05-24T08:46:37.144070",
     "exception": false,
     "start_time": "2022-05-24T08:46:36.988221",
     "status": "completed"
    },
    "tags": []
   },
   "outputs": [],
   "source": [
    "output.to_csv('submission.csv',index=False)"
   ]
  }
 ],
 "metadata": {
  "kernelspec": {
   "display_name": "Python 3",
   "language": "python",
   "name": "python3"
  },
  "language_info": {
   "codemirror_mode": {
    "name": "ipython",
    "version": 3
   },
   "file_extension": ".py",
   "mimetype": "text/x-python",
   "name": "python",
   "nbconvert_exporter": "python",
   "pygments_lexer": "ipython3",
   "version": "3.8.8"
  },
  "papermill": {
   "default_parameters": {},
   "duration": 56.535965,
   "end_time": "2022-05-24T08:46:38.360346",
   "environment_variables": {},
   "exception": null,
   "input_path": "__notebook__.ipynb",
   "output_path": "__notebook__.ipynb",
   "parameters": {},
   "start_time": "2022-05-24T08:45:41.824381",
   "version": "2.3.4"
  }
 },
 "nbformat": 4,
 "nbformat_minor": 5
}
